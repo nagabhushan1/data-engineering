{
 "cells": [
  {
   "cell_type": "markdown",
   "id": "edbf5c3b",
   "metadata": {},
   "source": [
    "# BigQuery INFORMATION_SCHEMA Views"
   ]
  },
  {
   "cell_type": "markdown",
   "id": "b2fe81f2",
   "metadata": {},
   "source": [
    "## Overview\n",
    "In this notebook, we explore the `INFORMATION_SCHEMA` in BigQuery.\n",
    "The `INFORMATION_SCHEMA` provides metadata about BigQuery objects, enabling us to understand the structure and properties of datasets, tables, views, and more."
   ]
  },
  {
   "cell_type": "markdown",
   "id": "cdc6e3c7",
   "metadata": {},
   "source": [
    "### Listing Databases (Datasets) in the Project\n",
    "\n",
    "This SQL query lists all the databases, known as datasets in BigQuery, within the `pp-bigquery-02` project. It provides an overview of the datasets available for querying and analysis. Specifically, the query:\n",
    "\n",
    "- Utilizes the `INFORMATION_SCHEMA.SCHEMATA` view, a meta-table that provides information about each dataset in the specified project.\n",
    "- Executes the `SELECT *` statement to retrieve all columns from theE `SCHEMATA` view, giving comprehensive details about each dataset, such as the dataset's name, creation time, and other metadata.\n"
   ]
  },
  {
   "cell_type": "code",
   "execution_count": null,
   "id": "945014d8-af09-4c62-90f3-2792d36158d5",
   "metadata": {},
   "outputs": [],
   "source": [
    "%%bigquery\n",
    "SELECT * FROM `pp-bigquery-02.INFORMATION_SCHEMA.SCHEMATA`"
   ]
  },
  {
   "cell_type": "markdown",
   "id": "dab0512e",
   "metadata": {},
   "source": [
    "### Listing Tables in the 'demo_retail' Dataset\n",
    "\n",
    "- Executes the `SELECT *` statement to retrieve all columns from the `TABLES` view, offering detailed information about each table, such as the table's name, type (TABLE or VIEW), creation time, and other crucial metadata."
   ]
  },
  {
   "cell_type": "code",
   "execution_count": null,
   "id": "dde51c23-15d0-42dd-bbd4-9403dc52e67a",
   "metadata": {},
   "outputs": [],
   "source": [
    "%%bigquery\n",
    "SELECT * FROM `pp-bigquery-02.demo_retail.INFORMATION_SCHEMA.TABLES`;"
   ]
  },
  {
   "cell_type": "markdown",
   "id": "455fbfdb",
   "metadata": {},
   "source": [
    "### Listing Column Details for the 'orders' Table in the 'demo_retail' Dataset\n",
    "\n",
    "This SQL query fetches detailed information about the columns of the `orders` table within the `demo_retail` dataset of the `pp-bigquery-02` project. "
   ]
  },
  {
   "cell_type": "code",
   "execution_count": null,
   "id": "23066550",
   "metadata": {},
   "outputs": [],
   "source": [
    "%%bigquery\n",
    "SELECT * FROM `pp-bigquery-02.demo_retail.INFORMATION_SCHEMA.COLUMNS`\n",
    "WHERE table_name = 'orders';"
   ]
  },
  {
   "cell_type": "markdown",
   "id": "e19d0b21",
   "metadata": {},
   "source": [
    "### Retrieving DDL Statements for Tables in the 'demo_retail' Dataset\n",
    "\n",
    "Running this query is especially beneficial for drators, developers, or data engineers who need to review, replicate, or modify table structures based on their existing definitions within the dataset."
   ]
  },
  {
   "cell_type": "code",
   "execution_count": null,
   "id": "ec7cda8b-5207-495e-8858-ac3e7b1c8b16",
   "metadata": {},
   "outputs": [],
   "source": [
    "SELECT table_name, ddl FROM `pp-bigquery-02.demo_retail.INFORMATION_SCHEMA.TABLES`;"
   ]
  },
  {
   "cell_type": "markdown",
   "id": "02eed90f-7526-4a18-81f7-eea80702d880",
   "metadata": {},
   "source": [
    "### Analyzing Table Sizes in the 'demo_retail' Dataset\n",
    "\n",
    "This SQL query retrieves the size of each table within the `demo_retail` dataset of the `pp-bigquery-02` project. Understanding the size of tables is crucial for efficient data management, cost estimation, and performance optimization. "
   ]
  },
  {
   "cell_type": "code",
   "execution_count": null,
   "id": "a6e883be-8738-4f17-94dc-675608380296",
   "metadata": {},
   "outputs": [],
   "source": [
    "%%bigquery\n",
    "SELECT table_name, total_logical_bytes FROM `pp-bigquery-02.demo_retail.__TABLES__`;"
   ]
  },
  {
   "cell_type": "markdown",
   "id": "b783dd32-b32e-4b7e-8154-83af00503723",
   "metadata": {},
   "source": [
    "### Identifying Views in the 'demo_retail' Dataset\n",
    "\n",
    "This SQL query is tailored to list all views within the `demo_retail` dataset of the `pp-bigquery-02` project. Views are virtual tables defined by a SQL query, and understanding their presence and properties is essential for comprehensive data schema comprehension. The query:\n"
   ]
  },
  {
   "cell_type": "code",
   "execution_count": null,
   "id": "7d5dfe72-48b4-4568-8585-ad5d4ea3ab3c",
   "metadata": {},
   "outputs": [],
   "source": [
    "%%bigquery\n",
    "SELECT * FROM `pp-bigquery-02.demo_retail.INFORMATION_SCHEMA.TABLES` WHERE table_type = 'VIEW';"
   ]
  },
  {
   "cell_type": "markdown",
   "id": "3e6ea179",
   "metadata": {},
   "source": [
    "### Identifying Materialized Views in the 'demo_retail' Dataset\n",
    "\n",
    "Materialized views are precomputed views that store the result of the query to expedite data retrieval. "
   ]
  },
  {
   "cell_type": "code",
   "execution_count": null,
   "id": "1cd6ff61-61b3-4f15-a1b3-39e0d3204a57",
   "metadata": {},
   "outputs": [],
   "source": [
    "%%bigquery\n",
    "SELECT * FROM `pp-bigquery-02.demo_retail.INFORMATION_SCHEMA.TABLES` WHERE table_type = 'MATERIALIZED VIEW';"
   ]
  },
  {
   "cell_type": "markdown",
   "id": "0d56540f-0e01-42b1-9ec5-54242f4c633f",
   "metadata": {},
   "source": [
    "## Information Schema Pricing\n",
    "\n",
    "- Although queries against `INFORMATION_SCHEMA` views process metadata rather than the actual table data, they do incur data processing charges. Specifically, these queries are charged for 10MB of data processed, which is a part of BigQuery's on-demand pricing structure.  "
   ]
  }
 ],
 "metadata": {
  "kernelspec": {
   "display_name": "Python 3 (ipykernel)",
   "language": "python",
   "name": "python3"
  },
  "language_info": {
   "codemirror_mode": {
    "name": "ipython",
    "version": 3
   },
   "file_extension": ".py",
   "mimetype": "text/x-python",
   "name": "python",
   "nbconvert_exporter": "python",
   "pygments_lexer": "ipython3",
   "version": "3.11.6"
  }
 },
 "nbformat": 4,
 "nbformat_minor": 5
}
