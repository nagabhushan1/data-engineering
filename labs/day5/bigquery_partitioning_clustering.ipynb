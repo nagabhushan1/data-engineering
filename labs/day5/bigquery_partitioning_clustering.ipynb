{
  "cells": [
    {
      "cell_type": "markdown",
      "id": "72367d4a",
      "metadata": {
        "id": "72367d4a"
      },
      "source": [
        "\n",
        "# BigQuery Partitioning & Clustering\n",
        "\n",
        "This hands-on notebook covers:\n",
        "- Create Partitioned and Clustered Table\n",
        "- Verifying partitions via `INFORMATION_SCHEMA.PARTITIONS`\n",
        "\n",
        "\n",
        "**Partitioning** stores data in segments (e.g., by `DATE`), so queries can scan only relevant partitions—often reducing scanned bytes and speeding up queries.  \n",
        "**Clustering** organizes rows within a table (or per-partition) by selected columns (e.g., `City`), which can lower scanned data for filters on the clustering columns.  \n",
        "**Partition metadata** is visible at `INFORMATION_SCHEMA.PARTITIONS`.  \n"
      ]
    },
    {
      "cell_type": "markdown",
      "id": "bf7d767c",
      "metadata": {
        "id": "bf7d767c"
      },
      "source": [
        "\n",
        "### Authenticate and load BigQuery magics\n"
      ]
    },
    {
      "cell_type": "code",
      "execution_count": null,
      "id": "0d90dca9",
      "metadata": {
        "id": "0d90dca9"
      },
      "outputs": [],
      "source": [
        "# Authenticate\n",
        "from google.colab import auth\n",
        "auth.authenticate_user()\n",
        "\n",
        "# Set your GCP project id\n",
        "PROJECT_ID = \"pp-bigquery-02\"   # <— change if needed\n",
        "\n",
        "import os\n",
        "os.environ[\"GOOGLE_CLOUD_PROJECT\"] = PROJECT_ID\n",
        "\n",
        "from google.cloud.bigquery.magics import context\n",
        "context.project = PROJECT_ID\n",
        "print(\"Project set to:\", context.project)\n"
      ]
    },
    {
      "cell_type": "markdown",
      "id": "7b4ea531",
      "metadata": {
        "id": "7b4ea531"
      },
      "source": [
        "\n",
        "### Create dataset (schema)\n"
      ]
    },
    {
      "cell_type": "code",
      "execution_count": null,
      "id": "f6a2c21a",
      "metadata": {
        "id": "f6a2c21a"
      },
      "outputs": [],
      "source": [
        "\n",
        "%%bigquery\n",
        "CREATE SCHEMA IF NOT EXISTS `pp-bigquery-02.partitioning_demo_<your_name>`;\n"
      ]
    },
    {
      "cell_type": "markdown",
      "id": "42f0bcc2",
      "metadata": {
        "id": "42f0bcc2"
      },
      "source": [
        "\n",
        "### Create base table (no partitioning)\n",
        "Columns: `Id, First Name, Last Name, Email Id, City, Country, Date`.\n"
      ]
    },
    {
      "cell_type": "code",
      "execution_count": null,
      "id": "b4377c68",
      "metadata": {
        "id": "b4377c68"
      },
      "outputs": [],
      "source": [
        "\n",
        "%%bigquery\n",
        "CREATE OR REPLACE TABLE `pp-bigquery-02.partitioning_demo_<your_name>.non_partitioned_table` (\n",
        "  Id INT64,\n",
        "  `First Name` STRING,\n",
        "  `Last Name` STRING,\n",
        "  `Email Id` STRING,\n",
        "  City STRING,\n",
        "  Country STRING,\n",
        "  `Date` DATE\n",
        ");\n"
      ]
    },
    {
      "cell_type": "markdown",
      "id": "d57a68a6",
      "metadata": {
        "id": "d57a68a6"
      },
      "source": [
        "\n",
        "### Load sample data\n"
      ]
    },
    {
      "cell_type": "code",
      "execution_count": null,
      "id": "665c203d",
      "metadata": {
        "id": "665c203d"
      },
      "outputs": [],
      "source": [
        "%%bigquery\n",
        "INSERT INTO `pp-bigquery-02.partitioning_demo_<your_name>.non_partitioned_table`\n",
        "(Id, `First Name`, `Last Name`, `Email Id`, City, Country, `Date`)\n",
        "VALUES\n",
        "(1,'John','Dsouza','john.dsouza@noemail.com','Bengaluru','India','2025-08-15'),\n",
        "(2,'Peter','Pereira','peter.pereira@noemail.com','Mumbai','India','2025-07-30'),\n",
        "(3,'Mary','Fernandes','mary.fernandes@noemail.com','Chennai','India','2025-05-01'),\n",
        "(4,'Joseph','Mathew','joseph.mathew@noemail.com','Bengaluru','India','2025-07-30'),\n",
        "(5,'Thomas','Thomas','thomas.thomas@noemail.com','Mumbai','India','2025-08-15'),\n",
        "(6,'Grace','Pinto','grace.pinto@noemail.com','Chennai','India','2025-05-01'),\n",
        "(7,'Harpreet','Singh','harpreet.singh@noemail.com','Bengaluru','India','2025-05-01'),\n",
        "(8,'Gurpreet','Kaur','gurpreet.kaur@noemail.com','Mumbai','India','2025-07-30'),\n",
        "(9,'Manjit','Gill','manjit.gill@noemail.com','Chennai','India','2025-08-15'),\n",
        "(10,'Aamir','Khan','aamir.khan@noemail.com','Bengaluru','India','2025-07-30'),\n",
        "(11,'Ayesha','Ahmed','ayesha.ahmed@noemail.com','Mumbai','India','2025-05-01'),\n",
        "(12,'Hemant','Jain','hemant.jain@noemail.com','Chennai','India','2025-07-30'),\n",
        "(13,'Prachi','Jain','prachi.jain@noemail.com','Bengaluru','India','2025-08-15'),\n",
        "(14,'Rustom','Irani','rustom.irani@noemail.com','Mumbai','India','2025-08-15'),\n",
        "(15,'Pavan','Gowda','pavan.gowda@noemail.com','Chennai','India','2025-07-30'),\n",
        "(16,'Suresh','Kamble','suresh.kamble@noemail.com','Bengaluru','India','2025-05-01'),\n",
        "(17,'Aarav','Sharma','aarav.sharma@noemail.com','Bengaluru','India','2025-08-15'),\n",
        "(18,'Vivaan','Verma','vivaan.verma@noemail.com','Mumbai','India','2025-07-30'),\n",
        "(19,'Aditya','Reddy','aditya.reddy@noemail.com','Chennai','India','2025-05-01'),\n",
        "(20,'Vihaan','Iyer','vihaan.iyer@noemail.com','Bengaluru','India','2025-07-30'),\n",
        "(21,'Arjun','Patel','arjun.patel@noemail.com','Mumbai','India','2025-08-15'),\n",
        "(22,'Reyansh','Gupta','reyansh.gupta@noemail.com','Chennai','India','2025-05-01'),\n",
        "(23,'Krishna','Naidu','krishna.naidu@noemail.com','Bengaluru','India','2025-05-01'),\n",
        "(24,'Ishaan','Menon','ishaan.menon@noemail.com','Mumbai','India','2025-07-30'),\n",
        "(25,'Shaurya','Nair','shaurya.nair@noemail.com','Chennai','India','2025-08-15'),\n",
        "(26,'Atharv','Bhat','atharv.bhat@noemail.com','Bengaluru','India','2025-07-30'),\n",
        "(27,'Ananya','Shetty','ananya.shetty@noemail.com','Mumbai','India','2025-05-01'),\n",
        "(28,'Diya','Rao','diya.rao@noemail.com','Chennai','India','2025-07-30'),\n",
        "(29,'Kiara','Shukla','kiara.shukla@noemail.com','Bengaluru','India','2025-08-15'),\n",
        "(30,'Aadhya','Mishra','aadhya.mishra@noemail.com','Mumbai','India','2025-08-15'),\n",
        "(31,'Ira','Kulkarni','ira.kulkarni@noemail.com','Chennai','India','2025-05-01'),\n",
        "(32,'Anika','Desai','anika.desai@noemail.com','Bengaluru','India','2025-07-30'),\n",
        "(33,'Saanvi','Joshi','saanvi.joshi@noemail.com','Mumbai','India','2025-08-15'),\n",
        "(34,'Myra','Murthy','myra.murthy@noemail.com','Chennai','India','2025-05-01'),\n",
        "(35,'Navya','Chakraborty','navya.chakraborty@noemail.com','Bengaluru','India','2025-07-30'),\n",
        "(36,'Aarohi','Banerjee','aarohi.banerjee@noemail.com','Mumbai','India','2025-05-01'),\n",
        "(37,'Rohan','Chatterjee','rohan.chatterjee@noemail.com','Chennai','India','2025-07-30'),\n",
        "(38,'Kabir','Mukherjee','kabir.mukherjee@noemail.com','Bengaluru','India','2025-08-15'),\n",
        "(39,'Siddharth','Das','siddharth.das@noemail.com','Mumbai','India','2025-05-01'),\n",
        "(40,'Yash','Ghosh','yash.ghosh@noemail.com','Chennai','India','2025-07-30'),\n",
        "(41,'Kunal','Tripathi','kunal.tripathi@noemail.com','Bengaluru','India','2025-05-01'),\n",
        "(42,'Ritika','Dubey','ritika.dubey@noemail.com','Mumbai','India','2025-07-30'),\n",
        "(43,'Shruti','Pandey','shruti.pandey@noemail.com','Chennai','India','2025-08-15'),\n",
        "(44,'Nisha','Singh','nisha.singh@noemail.com','Bengaluru','India','2025-08-15'),\n",
        "(45,'Pooja','Yadav','pooja.yadav@noemail.com','Mumbai','India','2025-05-01'),\n",
        "(46,'Meera','Kumar','meera.kumar@noemail.com','Chennai','India','2025-07-30'),\n",
        "(47,'Aisha','Agarwal','aisha.agarwal@noemail.com','Bengaluru','India','2025-05-01'),\n",
        "(48,'Neha','Mehta','neha.mehta@noemail.com','Mumbai','India','2025-08-15'),\n",
        "(49,'Riya','Patil','riya.patil@noemail.com','Chennai','India','2025-05-01'),\n",
        "(50,'Priya','Sawant','priya.sawant@noemail.com','Bengaluru','India','2025-07-30');\n"
      ]
    },
    {
      "cell_type": "code",
      "source": [
        "%%bigquery\n",
        "SELECT *\n",
        "FROM pp-bigquery-02.partitioning_demo_<your_name>.non_partitioned_table;"
      ],
      "metadata": {
        "id": "1X6gB9P57xHG"
      },
      "id": "1X6gB9P57xHG",
      "execution_count": null,
      "outputs": []
    },
    {
      "cell_type": "code",
      "execution_count": null,
      "id": "15f9940a",
      "metadata": {
        "id": "15f9940a"
      },
      "outputs": [],
      "source": [
        "\n",
        "%%bigquery\n",
        "SELECT *\n",
        "FROM `pp-bigquery-02.partitioning_demo_<your_name>`.INFORMATION_SCHEMA.PARTITIONS\n",
        "WHERE table_name = 'non_partitioned_table'\n",
        "ORDER BY partition_id;\n"
      ]
    },
    {
      "cell_type": "markdown",
      "id": "0ea7dabf",
      "metadata": {
        "id": "0ea7dabf"
      },
      "source": [
        "\n",
        "\n",
        "---\n",
        "\n",
        "\n",
        "### Create **partitioned** table by `Date`\n"
      ]
    },
    {
      "cell_type": "code",
      "execution_count": null,
      "id": "36b2c595",
      "metadata": {
        "id": "36b2c595"
      },
      "outputs": [],
      "source": [
        "\n",
        "%%bigquery\n",
        "CREATE OR REPLACE TABLE `pp-bigquery-02.partitioning_demo_<your_name>.customers_partitioned` (\n",
        "  Id INT64,\n",
        "  `First Name` STRING,\n",
        "  `Last Name` STRING,\n",
        "  `Email Id` STRING,\n",
        "  City STRING,\n",
        "  Country STRING,\n",
        "  `Date` DATE\n",
        ")\n",
        "PARTITION BY `Date`;\n",
        "\n",
        "INSERT INTO `pp-bigquery-02.partitioning_demo_<your_name>.customers_partitioned`\n",
        "SELECT * FROM `pp-bigquery-02.partitioning_demo_<your_name>.non_partitioned_table`;\n"
      ]
    },
    {
      "cell_type": "markdown",
      "id": "47a68f3a",
      "metadata": {
        "id": "47a68f3a"
      },
      "source": [
        "\n",
        "### Check partitions\n"
      ]
    },
    {
      "cell_type": "code",
      "execution_count": null,
      "id": "8bf023aa",
      "metadata": {
        "id": "8bf023aa"
      },
      "outputs": [],
      "source": [
        "\n",
        "%%bigquery\n",
        "SELECT table_name, partition_id, total_rows\n",
        "FROM `pp-bigquery-02.partitioning_demo_<your_name>`.INFORMATION_SCHEMA.PARTITIONS\n",
        "WHERE table_name = 'customers_partitioned'\n"
      ]
    },
    {
      "cell_type": "markdown",
      "id": "97edffce",
      "metadata": {
        "id": "97edffce"
      },
      "source": [
        "\n",
        "### Create **partitioned + clustered** table (by `Date`, clustered by `City`)\n"
      ]
    },
    {
      "cell_type": "code",
      "execution_count": null,
      "id": "82b6bf8b",
      "metadata": {
        "id": "82b6bf8b"
      },
      "outputs": [],
      "source": [
        "\n",
        "%%bigquery\n",
        "CREATE OR REPLACE TABLE `pp-bigquery-02.partitioning_demo_<your_name>.customers_clustered` (\n",
        "  Id INT64,\n",
        "  `First Name` STRING,\n",
        "  `Last Name` STRING,\n",
        "  `Email Id` STRING,\n",
        "  City STRING,\n",
        "  Country STRING,\n",
        "  `Date` DATE\n",
        ")\n",
        "PARTITION BY `Date`\n",
        "CLUSTER BY City;\n",
        "\n",
        "INSERT INTO `pp-bigquery-02.partitioning_demo_<your_name>.customers_clustered`\n",
        "SELECT * FROM `pp-bigquery-02.partitioning_demo_<your_name>.non_partitioned_table`;\n"
      ]
    },
    {
      "cell_type": "markdown",
      "id": "82c7d869",
      "metadata": {
        "id": "82c7d869"
      },
      "source": [
        "\n",
        "### Check partitions"
      ]
    },
    {
      "cell_type": "code",
      "execution_count": null,
      "id": "a738af6b",
      "metadata": {
        "id": "a738af6b"
      },
      "outputs": [],
      "source": [
        "\n",
        "%%bigquery\n",
        "SELECT *\n",
        "FROM `pp-bigquery-02.partitioning_demo_<your_name>`.INFORMATION_SCHEMA.PARTITIONS\n",
        "WHERE table_name = 'customers_clustered'\n",
        "ORDER BY partition_id;\n"
      ]
    },
    {
      "cell_type": "markdown",
      "id": "14a0a2c4",
      "metadata": {
        "id": "14a0a2c4"
      },
      "source": [
        "\n",
        "### Clean up — drop the dataset"
      ]
    },
    {
      "cell_type": "code",
      "execution_count": null,
      "id": "495ca63b",
      "metadata": {
        "id": "495ca63b"
      },
      "outputs": [],
      "source": [
        "\n",
        "%%bigquery\n",
        "DROP SCHEMA `pp-bigquery-02.partitioning_demo_<your_name>` CASCADE;\n"
      ]
    }
  ],
  "metadata": {
    "colab": {
      "provenance": []
    },
    "language_info": {
      "name": "python"
    },
    "kernelspec": {
      "name": "python3",
      "display_name": "Python 3"
    }
  },
  "nbformat": 4,
  "nbformat_minor": 5
}