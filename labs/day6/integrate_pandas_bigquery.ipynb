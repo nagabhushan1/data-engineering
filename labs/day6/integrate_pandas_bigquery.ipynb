{
 "cells": [
  {
   "cell_type": "markdown",
   "id": "c81b76f4-e06e-4430-9f23-27da265538a4",
   "metadata": {},
   "source": [
    "# Integration of Pandas with BigQuery\n",
    "\n",
    "This notebook provides an overview and examples of how to integrate Pandas with BigQuery for efficient data analysis."
   ]
  },
  {
   "cell_type": "markdown",
   "id": "c1eb191f-4cbf-48f5-a2b1-5c37cb2dc71c",
   "metadata": {},
   "source": [
    "## Overview\n",
    "\n",
    "Pandas is a powerful Python library for data manipulation and analysis, offering data structures and operations for manipulating numerical tables and time series. BigQuery is a highly scalable and serverless data warehouse provided by Google Cloud that enables super-fast SQL queries using the processing power of Google's infrastructure.\n",
    "\n",
    "_By integrating Pandas with BigQuery, you can leverage the best of both worlds: BigQuery's ability to quickly process very large datasets and Pandas' rich set of data manipulation tools for detailed analysis._"
   ]
  },
  {
   "cell_type": "code",
   "execution_count": null,
   "id": "e881d0f2-c317-4af9-a465-cc233b78054d",
   "metadata": {},
   "outputs": [],
   "source": [
    "from google.cloud import bigquery\n",
    "from time import time"
   ]
  },
  {
   "cell_type": "code",
   "execution_count": null,
   "id": "22f74b0b-f532-4286-91f1-4e1b5d66aeac",
   "metadata": {},
   "outputs": [],
   "source": [
    "client = bigquery.Client()\n",
    "job_config = bigquery.QueryJobConfig(use_query_cache=False)"
   ]
  },
  {
   "cell_type": "code",
   "execution_count": null,
   "id": "3fd02192-7ba7-4a2c-bc88-f946e9acad68",
   "metadata": {},
   "outputs": [],
   "source": [
    "#Create a query string\n",
    "query = \"\"\"\n",
    "SELECT\n",
    "  order_status,\n",
    "  COUNT(*) AS order_count\n",
    "FROM\n",
    "  pp-bigquery-02.demo_retail.orders\n",
    "GROUP BY\n",
    "  order_status;\n",
    "\"\"\""
   ]
  },
  {
   "cell_type": "code",
   "execution_count": null,
   "id": "82f0bbe0-ddcb-430b-b759-b9cf7df0b69f",
   "metadata": {},
   "outputs": [],
   "source": [
    "print(type(query))"
   ]
  },
  {
   "cell_type": "markdown",
   "id": "8016c40f-b5cb-47d6-b8fd-c95660278eba",
   "metadata": {
    "tags": []
   },
   "source": [
    "Make an API request"
   ]
  },
  {
   "cell_type": "code",
   "execution_count": null,
   "id": "15fbba65-ab1f-42a6-b4ed-87c812c77d4a",
   "metadata": {},
   "outputs": [],
   "source": [
    "query_job = client.query(query, job_config=job_config)"
   ]
  },
  {
   "cell_type": "markdown",
   "id": "9f389a24-5224-413a-abe0-7d23753161f1",
   "metadata": {},
   "source": [
    "#### Return the query results into a Pandas DataFrame"
   ]
  },
  {
   "cell_type": "code",
   "execution_count": null,
   "id": "572dff58-c830-4975-93ee-0bb443c28d04",
   "metadata": {},
   "outputs": [],
   "source": [
    "df = query_job.result().to_dataframe()"
   ]
  },
  {
   "cell_type": "markdown",
   "id": "87f673b0-fc2d-4930-ad94-e9e66b98f0bc",
   "metadata": {},
   "source": [
    "#### Displaying the Top Rows of a DataFrame\n",
    "\n",
    "The `df.head()` method is used to display the first few rows of a DataFrame `df`. By default, this method returns the first five rows\n"
   ]
  },
  {
   "cell_type": "code",
   "execution_count": null,
   "id": "b5d295d0",
   "metadata": {},
   "outputs": [],
   "source": [
    "df.head()"
   ]
  },
  {
   "cell_type": "markdown",
   "id": "ce82a484-d0e5-4cf4-b0e4-4ee99200ec86",
   "metadata": {},
   "source": [
    "#### Displaying Summary Information of a DataFrame\n",
    "\n",
    "The `df.info()` method provides a concise summary of a DataFrame `df`"
   ]
  },
  {
   "cell_type": "code",
   "execution_count": null,
   "id": "ce83d4ac-9ee0-4a55-94cb-e74f3aebff45",
   "metadata": {},
   "outputs": [],
   "source": [
    "df.info()"
   ]
  },
  {
   "cell_type": "markdown",
   "id": "77f575d4-f0d1-489e-be8e-29d0cf624888",
   "metadata": {},
   "source": [
    "#### Accessing DataFrame Column Names\n",
    "\n",
    "The `df.columns` provides a list-like object showing all column names in the DataFrame."
   ]
  },
  {
   "cell_type": "code",
   "execution_count": null,
   "id": "eaf0ca20-bb5d-4ea7-8d0a-1a0549331d78",
   "metadata": {},
   "outputs": [],
   "source": [
    "df.columns"
   ]
  }
 ],
 "metadata": {
  "kernelspec": {
   "display_name": "Python (Local)",
   "language": "python",
   "name": "base"
  },
  "language_info": {
   "codemirror_mode": {
    "name": "ipython",
    "version": 3
   },
   "file_extension": ".py",
   "mimetype": "text/x-python",
   "name": "python",
   "nbconvert_exporter": "python",
   "pygments_lexer": "ipython3",
   "version": "3.10.13"
  }
 },
 "nbformat": 4,
 "nbformat_minor": 5
}
