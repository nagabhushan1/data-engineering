{
 "cells": [
  {
   "cell_type": "markdown",
   "metadata": {},
   "source": [
    "# Advanced Spark SQL Examples\n",
    "\n",
    "This notebook demonstrates advanced SQL concepts in Spark with detailed explanations:\n",
    "- Creating, using, dropping views\n",
    "- Querying with and without CTEs\n",
    "- Customers without orders (Join vs Subquery)\n",
    "- CTAS (Create Table As Select)"
   ]
  },

  {
   "cell_type": "markdown",
   "metadata": {},
   "source": [
    "## 1. Create, Use, Drop a View\n",
    "\n",
    "**Concept Explanation:**\n",
    "A *view* is a saved SQL query that acts like a virtual table. It improves code reuse and makes complex queries easier to handle.\n",
    "- **Create View:** Defines the virtual table.\n",
    "- **Use View:** Query it like a table.\n",
    "- **Drop View:** Remove it when no longer needed."
   ]
  },
  {
   "cell_type": "code",
   "execution_count": null,
   "metadata": {},
   "outputs": [],
   "source": [
    "# Create View\n",
    "spark.sql(\"\"\"\n",
    "CREATE OR REPLACE TEMP VIEW complete_orders AS\n",
    "SELECT * FROM orders WHERE order_status='COMPLETE'\n",
    "\"\"\")\n",
    "\n",
    "# Use the View\n",
    "spark.sql(\"SELECT COUNT(*) AS complete_count FROM complete_orders\").show()\n",
    "\n",
    "# Drop the View\n",
    "spark.catalog.dropTempView(\"complete_orders\")"
   ]
  },

  {
   "cell_type": "markdown",
   "metadata": {},
   "source": [
    "## 2. Query Without CTE\n",
    "\n",
    "**Concept Explanation:**\n",
    "A query can directly compute daily revenue by joining `orders` and `order_items`.\n",
    "- This approach is simple but can be harder to read when queries get longer.\n",
    "- Every calculation is done inline without a temporary reference."
   ]
  },
  {
   "cell_type": "code",
   "execution_count": null,
   "metadata": {},
   "outputs": [],
   "source": [
    "spark.sql(\"\"\"\n",
    "SELECT to_date(o.order_date) AS order_date,\n",
    "       ROUND(SUM(oi.order_item_subtotal),2) AS daily_revenue\n",
    "FROM orders o\n",
    "JOIN order_items oi ON o.order_id = oi.order_item_order_id\n",
    "WHERE o.order_status IN ('COMPLETE','CLOSED')\n",
    "GROUP BY to_date(o.order_date)\n",
    "ORDER BY order_date\n",
    "\"\"\").show(10, truncate=False)"
   ]
  },

  {
   "cell_type": "markdown",
   "metadata": {},
   "source": [
    "## 3. Query With CTE\n",
    "\n",
    "**Concept Explanation:**\n",
    "A **Common Table Expression (CTE)** is a temporary named result set defined with the `WITH` clause.\n",
    "- Improves **readability** by splitting logic into smaller blocks.\n",
    "- Can be reused multiple times in the main query.\n",
    "- Exists only during execution of the query.\n",
    "\n",
    "**Use Case Here:**\n",
    "We first compute daily revenue in a CTE (`revenue_cte`) and then query it to format results."
   ]
  },
  {
   "cell_type": "code",
   "execution_count": null,
   "metadata": {},
   "outputs": [],
   "source": [
    "spark.sql(\"\"\"\n",
    "WITH revenue_cte AS (\n",
    "    SELECT to_date(o.order_date) AS order_date,\n",
    "           SUM(oi.order_item_subtotal) AS revenue\n",
    "    FROM orders o\n",
    "    JOIN order_items oi ON o.order_id = oi.order_item_order_id\n",
    "    WHERE o.order_status IN ('COMPLETE','CLOSED')\n",
    "    GROUP BY to_date(o.order_date)\n",
    ")\n",
    "SELECT order_date, ROUND(revenue,2) AS daily_revenue\n",
    "FROM revenue_cte\n",
    "ORDER BY order_date\n",
    "\"\"\").show(10, truncate=False)"
   ]
  },

  {
   "cell_type": "markdown",
   "metadata": {},
   "source": [
    "## 4. Customers Without Orders (Join)\n",
    "\n",
    "**Concept Explanation:**\n",
    "- A `LEFT JOIN` returns all rows from the left table (`customers`), along with matching rows from the right table (`orders`).\n",
    "- Customers with no orders will have `NULL` values in the `orders` columns.\n",
    "- Filtering `WHERE o.order_id IS NULL` gives customers with no orders."
   ]
  },
  {
   "cell_type": "code",
   "execution_count": null,
   "metadata": {},
   "outputs": [],
   "source": [
    "spark.sql(\"\"\"\n",
    "SELECT c.customer_id, c.customer_fname, c.customer_lname\n",
    "FROM customers c\n",
    "LEFT JOIN orders o ON c.customer_id = o.order_customer_id\n",
    "WHERE o.order_id IS NULL\n",
    "\"\"\").show(10, truncate=False)"
   ]
  },

  {
   "cell_type": "markdown",
   "metadata": {},
   "source": [
    "## 5. Customers Without Orders (Subquery)\n",
    "\n",
    "**Concept Explanation:**\n",
    "- Instead of joins, we can use a **subquery**.\n",
    "- Here we check if a customer_id is **NOT IN** the list of order_customer_id from the orders table.\n",
    "- Simpler syntax but can be less efficient for very large datasets."
   ]
  },
  {
   "cell_type": "code",
   "execution_count": null,
   "metadata": {},
   "outputs": [],
   "source": [
    "spark.sql(\"\"\"\n",
    "SELECT c.customer_id, c.customer_fname, c.customer_lname\n",
    "FROM customers c\n",
    "WHERE c.customer_id NOT IN (SELECT DISTINCT order_customer_id FROM orders)\n",
    "\"\"\").show(10, truncate=False)"
   ]
  },

  {
   "cell_type": "markdown",
   "metadata": {},
   "source": [
    "## 6. CTAS (Create Table As Select)\n",
    "\n",
    "**Concept Explanation:**\n",
    "CTAS allows creating a new table (or view) based on the result of a query.\n",
    "- In Spark SQL, we can simulate CTAS with `CREATE OR REPLACE TEMP VIEW`.\n",
    "- Useful for saving intermediate results for reuse.\n",
    "\n",
    "**Use Case Here:**\n",
    "We create a table of daily revenue and then query it."
   ]
  },
  {
   "cell_type": "code",
   "execution_count": null,
   "metadata": {},
   "outputs": [],
   "source": [
    "spark.sql(\"DROP TABLE IF EXISTS daily_revenue_ctas\")\n",
    "\n",
    "spark.sql(\"\"\"\n",
    "CREATE OR REPLACE TEMP VIEW daily_revenue_ctas AS\n",
    "SELECT to_date(o.order_date) AS order_date,\n",
    "       ROUND(SUM(oi.order_item_subtotal),2) AS order_revenue\n",
    "FROM orders o\n",
    "JOIN order_items oi ON o.order_id = oi.order_item_order_id\n",
    "WHERE o.order_status IN ('COMPLETE','CLOSED')\n",
    "GROUP BY to_date(o.order_date)\n",
    "\"\"\")\n",
    "\n",
    "spark.sql(\"SELECT * FROM daily_revenue_ctas ORDER BY order_date\").show(10, truncate=False)"
   ]
  }
 ],
 "metadata": {
  "kernelspec": {
   "display_name": "Python 3",
   "language": "python",
   "name": "python3"
  },
  "language_info": {
   "name": "python",
   "version": "3.10"
  }
 },
 "nbformat": 4,
 "nbformat_minor": 5
}
