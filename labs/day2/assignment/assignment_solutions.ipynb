{
  "cells": [
    {
      "cell_type": "markdown",
      "metadata": {},
      "source": [
        "# Assignment Solutions\n",
        "\n",
        "**Expected files on Colab**: `/content/sales_details.csv`, `/content/cust_info.csv`, `/content/prd_info.csv`.\n"
      ]
    },
    {
      "cell_type": "markdown",
      "metadata": {},
      "source": [
        "## Setup"
      ]
    },
    {
      "cell_type": "code",
      "execution_count": null,
      "metadata": {},
      "outputs": [],
      "source": [
        "from pyspark.sql import SparkSession\n",
        "from pyspark.sql import functions as F\n",
        "\n",
        "spark = SparkSession.builder.appName(\"Business-Assignment-Answers\").getOrCreate()\n",
        "\n",
        "# Load datasets with headers and inferred schema\n",
        "sd = spark.read.option(\"header\", True).option(\"inferSchema\", True).csv(\"/content/sales_details.csv\")\n",
        "ci = spark.read.option(\"header\", True).option(\"inferSchema\", True).csv(\"/content/cust_info.csv\")\n",
        "pr = spark.read.option(\"header\", True).option(\"inferSchema\", True).csv(\"/content/prd_info.csv\")"
      ]
    },
    {
      "cell_type": "markdown",
      "metadata": {},
      "source": [
        "### 1) List every field in the Sales Details dataset with its data type to understand what the file contains."
      ]
    },
    {
      "cell_type": "code",
      "execution_count": null,
      "metadata": {},
      "outputs": [],
      "source": [
        "sd.printSchema()"
      ]
    },
    {
      "cell_type": "markdown",
      "metadata": {},
      "source": [
        "### 2) Find the top 5 products that appear in the most sales lines."
      ]
    },
    {
      "cell_type": "code",
      "execution_count": null,
      "metadata": {},
      "outputs": [],
      "source": [
        "sd.groupBy(\"sls_prd_key\").count().orderBy(F.desc(\"count\"), \"sls_prd_key\").show(5, truncate=False)"
      ]
    },
    {
      "cell_type": "markdown",
      "metadata": {},
      "source": [
        "### 3) Report the average selling price across all items, rounded to two decimals."
      ]
    },
    {
      "cell_type": "code",
      "execution_count": null,
      "metadata": {},
      "outputs": [],
      "source": [
        "sd.select(F.round(F.avg(\"sls_price\"), 2).alias(\"avg_price_2dp\")).show(truncate=False)"
      ]
    },
    {
      "cell_type": "markdown",
      "metadata": {},
      "source": [
        "### 4) Count the number of unique orders present in the dataset."
      ]
    },
    {
      "cell_type": "code",
      "execution_count": null,
      "metadata": {},
      "outputs": [],
      "source": [
        "sd.select(F.countDistinct(\"sls_ord_num\").alias(\"orders\")).show(truncate=False)"
      ]
    },
    {
      "cell_type": "markdown",
      "metadata": {},
      "source": [
        "### 5) Rename the order number to a business-friendly label (order_number) and show a small sample."
      ]
    },
    {
      "cell_type": "code",
      "execution_count": null,
      "metadata": {},
      "outputs": [],
      "source": [
        "sd.withColumnRenamed(\"sls_ord_num\",\"order_number\").select(\"order_number\").show(5, truncate=False)"
      ]
    },
    {
      "cell_type": "markdown",
      "metadata": {},
      "source": [
        "### 6) Load the customer master (cust_info.csv) and preview the first 5 customers."
      ]
    },
    {
      "cell_type": "code",
      "execution_count": null,
      "metadata": {},
      "outputs": [],
      "source": [
        "ci.show(5, truncate=False)"
      ]
    },
    {
      "cell_type": "markdown",
      "metadata": {},
      "source": [
        "### 7) List customer IDs and keys to confirm how customers are uniquely identified."
      ]
    },
    {
      "cell_type": "code",
      "execution_count": null,
      "metadata": {},
      "outputs": [],
      "source": [
        "ci.select(\"cst_id\",\"cst_key\").show(5, truncate=False)"
      ]
    },
    {
      "cell_type": "markdown",
      "metadata": {},
      "source": [
        "### 8) Show Upper Case Last Name for each customer."
      ]
    },
    {
      "cell_type": "code",
      "execution_count": null,
      "metadata": {},
      "outputs": [],
      "source": [
        "ci.select(\"cst_gndr\", F.upper(\"cst_lastname\").alias(\"UpperCase_LastName\")).show(5, truncate=False)"
      ]
    },
    {
      "cell_type": "markdown",
      "metadata": {},
      "source": [
        "### 9) Load the product catalog (prd_info.csv) and preview to confirm it is readable."
      ]
    },
    {
      "cell_type": "code",
      "execution_count": null,
      "metadata": {},
      "outputs": [],
      "source": [
        "pr.show(5, truncate=False)"
      ]
    },
    {
      "cell_type": "markdown",
      "metadata": {},
      "source": [
        "### 10) Create a simple SKU by concatenating product ID and product key, and display sample SKUs."
      ]
    },
    {
      "cell_type": "code",
      "execution_count": null,
      "metadata": {},
      "outputs": [],
      "source": [
        "pr.select(\"prd_id\",\"prd_key\", F.concat(F.col(\"prd_id\").cast(\"string\"), F.col(\"prd_key\").cast(\"string\")).alias(\"sku\")).show(5, truncate=False)"
      ]
    }
  ],
  "metadata": {
    "kernelspec": {
      "display_name": "Python 3",
      "language": "python",
      "name": "python3"
    }
  },
  "nbformat": 4,
  "nbformat_minor": 5
}
