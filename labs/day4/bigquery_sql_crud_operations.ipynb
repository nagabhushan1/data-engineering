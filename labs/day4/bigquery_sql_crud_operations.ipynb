{
 "cells": [
  {
   "cell_type": "markdown",
   "id": "7b117201",
   "metadata": {},
   "source": [
    "# BigQuery SQL Operations"
   ]
  },
  {
   "cell_type": "markdown",
   "id": "3fca11cb",
   "metadata": {},
   "source": [
    "### Overview\n",
    "In this notebook, you will perform essential BigQuery SQL operations. You'll learn how to create datasets and tables, insert and manage records, and clean up by dropping tables and datasets."
   ]
  },
  {
   "cell_type": "markdown",
   "id": "aaec181d",
   "metadata": {},
   "source": [
    "### About the Environment\n",
    "This notebook is running on a Python 3 kernel. We will use BigQuery magic commands which allow us to run BigQuery SQL queries directly within the notebook cells. To execute a BigQuery SQL query, we use the `%%bigquery` magic command at the beginning of the cell."
   ]
  },
  {
   "cell_type": "markdown",
   "id": "7b9001e7",
   "metadata": {},
   "source": [
    "### Authenticate to Google Cloud & set the BigQuery project\n",
    "\n",
    "This notebook runs on Google Colab. Use the following cell to authenticate with your Google account and set the project for BigQuery magics."
   ]
  },
  {
   "cell_type": "code",
   "execution_count": null,
   "id": "4f6aa6bf",
   "metadata": {},
   "outputs": [],
   "source": [
    "# Authenticate\n",
    "from google.colab import auth\n",
    "auth.authenticate_user()\n",
    "\n",
    "# Set your GCP project id\n",
    "PROJECT_ID = \"pp-bigquery-02\"\n",
    "\n",
    "# Tell the magics & client which project to use\n",
    "import os\n",
    "os.environ['GOOGLE_CLOUD_PROJECT'] = PROJECT_ID\n",
    "\n",
    "from google.cloud.bigquery.magics import context\n",
    "context.project = PROJECT_ID\n",
    "print('Project set to:', context.project)"
   ]
  },
  {
   "cell_type": "markdown",
   "id": "6a57bb5e",
   "metadata": {},
   "source": [
    "Note: The `<your_name>` placeholder is used to create a unique dataset name for each user to prevent conflicts. Replace `<your_name>` with your actual name or a unique identifier."
   ]
  },
  {
   "cell_type": "markdown",
   "id": "c9a8f2ff",
   "metadata": {},
   "source": [
    "### Step 1: Create a New Dataset\n",
    "Create a new dataset to hold your tables. Use the SQL statement below and make sure to replace `<your_name>` with your actual name to avoid conflicts."
   ]
  },
  {
   "cell_type": "code",
   "execution_count": null,
   "id": "66867b17-29da-4695-b82c-24c8b9754940",
   "metadata": {},
   "outputs": [],
   "source": [
    "%%bigquery\n",
    "CREATE SCHEMA IF NOT EXISTS `pp-bigquery-02.demo_dataset_<your_name>`;"
   ]
  },
  {
   "cell_type": "markdown",
   "id": "f0c3c7e9-bd09-4f07-9fe4-700697ba7fba",
   "metadata": {},
   "source": [
    "### Step 2: Create a New Table with Descriptions\n",
    "Create a new table within your dataset to store records. Use the SQL statement below to create the table with appropriate columns, data types, and descriptions."
   ]
  },
  {
   "cell_type": "code",
   "execution_count": null,
   "id": "8d55764f-a6a3-47e2-8d99-c12fac21f249",
   "metadata": {},
   "outputs": [],
   "source": [
    "%%bigquery\n",
    "\n",
    "CREATE TABLE IF NOT EXISTS `pp-bigquery-02.demo_dataset_<your_name>.demo_table` (\n",
    "    user_id INTEGER OPTIONS(description=\"Unique identifier for the user\"),\n",
    "    user_first_name STRING OPTIONS(description=\"First name of the user\"),\n",
    "    user_last_name STRING OPTIONS(description=\"Last name of the user\"),\n",
    "    is_active BOOLEAN OPTIONS(description=\"Indicates whether the user is active\")\n",
    ");"
   ]
  },
  {
   "cell_type": "markdown",
   "id": "7c43073f-0123-4aa2-bfd3-c99a18659216",
   "metadata": {},
   "source": [
    "### Step 3: Check for Existing Records\n",
    "Before inserting new records, check if the table already has any records. Use the SQL statement below."
   ]
  },
  {
   "cell_type": "code",
   "execution_count": null,
   "id": "985d54da",
   "metadata": {},
   "outputs": [],
   "source": [
    "%%bigquery\n",
    "SELECT * FROM `pp-bigquery-02.demo_dataset_<your_name>.demo_table`;"
   ]
  },
  {
   "cell_type": "markdown",
   "id": "5aecb3d8",
   "metadata": {},
   "source": [
    "### Step 4: Insert Records\n",
    "Insert multiple records into your table. Use the SQL statement below to insert sample records."
   ]
  },
  {
   "cell_type": "code",
   "execution_count": null,
   "id": "a63695e5",
   "metadata": {},
   "outputs": [],
   "source": [
    "%%bigquery\n",
    "\n",
    "INSERT INTO `pp-bigquery-02.demo_dataset_<your_name>.demo_table` (user_id, user_first_name, user_last_name, is_active) VALUES \n",
    "(1, 'John', 'Doe', TRUE),\n",
    "(2, 'Priya', 'Kumar', NULL),\n",
    "(3, 'Rohan', 'Gupta', TRUE),\n",
    "(4, 'Lakshmi', 'Patel', FALSE),\n",
    "(5, 'Arjun', 'Singh', TRUE),\n",
    "(6, 'Sara', 'Sharma', NULL),\n",
    "(7, 'Vivek', 'Mehta', TRUE),\n",
    "(8, 'Anita', 'Desai', FALSE),\n",
    "(9, 'Dev', 'Mishra', TRUE),\n",
    "(10, 'Kiran', 'Bose', TRUE);"
   ]
  },
  {
   "cell_type": "markdown",
   "id": "fdbac80b",
   "metadata": {},
   "source": [
    "### Step 5: View Inserted Records\n",
    "After inserting the records, view the inserted records to verify the insertion. Use the SQL statement below."
   ]
  },
  {
   "cell_type": "code",
   "execution_count": null,
   "id": "9019309b",
   "metadata": {},
   "outputs": [],
   "source": [
    "%%bigquery\n",
    "SELECT * FROM `pp-bigquery-02.demo_dataset_<your_name>.demo_table`;"
   ]
  },
  {
   "cell_type": "markdown",
   "id": "b45c6b9b",
   "metadata": {},
   "source": [
    "### Step 6: Count the Records\n",
    "To know the total number of records in the table, use the SQL statement below."
   ]
  },
  {
   "cell_type": "code",
   "execution_count": null,
   "id": "9f0d072b",
   "metadata": {},
   "outputs": [],
   "source": [
    "%%bigquery\n",
    "SELECT COUNT(*) FROM `pp-bigquery-02.demo_dataset_<your_name>.demo_table`;"
   ]
  },
  {
   "cell_type": "markdown",
   "id": "ac451184",
   "metadata": {},
   "source": [
    "### Step 7: Update a Record\n",
    "Perform an update operation to modify a specific record in your table. Use the SQL statement below."
   ]
  },
  {
   "cell_type": "code",
   "execution_count": null,
   "id": "072f1d99",
   "metadata": {},
   "outputs": [],
   "source": [
    "%%bigquery\n",
    "UPDATE `pp-bigquery-02.demo_dataset_<your_name>.demo_table` SET user_last_name = 'Smith' WHERE user_id = 1;"
   ]
  },
  {
   "cell_type": "markdown",
   "id": "bd04433d",
   "metadata": {},
   "source": [
    "### Step 8: Delete Records\n",
    "Write a query to delete specific records from your table based on certain conditions. Use the SQL statement below."
   ]
  },
  {
   "cell_type": "code",
   "execution_count": null,
   "id": "c3d8422d",
   "metadata": {},
   "outputs": [],
   "source": [
    "%%bigquery\n",
    "DELETE FROM `pp-bigquery-02.demo_dataset_<your_name>.demo_table` WHERE user_id = 1;"
   ]
  },
  {
   "cell_type": "markdown",
   "id": "1617b7e4",
   "metadata": {},
   "source": [
    "### Step 9: Delete All Records\n",
    "To delete all records from the table, use the SQL statement below. Note: In BigQuery, the `WHERE TRUE` clause is required when you want to delete all records from a table. It's a safety feature to prevent accidental deletion of data. By explicitly stating `WHERE TRUE`, you confirm that you intend to delete every record."
   ]
  },
  {
   "cell_type": "code",
   "execution_count": null,
   "id": "357271a1",
   "metadata": {},
   "outputs": [],
   "source": [
    "%%bigquery\n",
    "DELETE FROM `pp-bigquery-02.demo_dataset_<your_name>.demo_table` WHERE TRUE;"
   ]
  },
  {
   "cell_type": "markdown",
   "id": "8b7bf6f7",
   "metadata": {},
   "source": [
    "### Step 10: View Records After Deletion\n",
    "After deleting the records, view the remaining records to verify the deletion. Use the SQL statement below."
   ]
  },
  {
   "cell_type": "code",
   "execution_count": null,
   "id": "77868758",
   "metadata": {},
   "outputs": [],
   "source": [
    "%%bigquery\n",
    "SELECT * FROM `pp-bigquery-02.demo_dataset_<your_name>.demo_table`;"
   ]
  },
  {
   "cell_type": "markdown",
   "id": "e2ed7dfa",
   "metadata": {},
   "source": [
    "### Step 11: Drop Table and Dataset\n",
    "Finally, learn how to clean up by dropping the table and dataset you created. Use the SQL statements below."
   ]
  },
  {
   "cell_type": "code",
   "execution_count": null,
   "id": "c178ffff-8732-4312-951b-addde7511acb",
   "metadata": {},
   "outputs": [],
   "source": [
    "%%bigquery\n",
    "DROP TABLE IF EXISTS `pp-bigquery-02.demo_dataset_<your_name>.demo_table`;"
   ]
  },
  {
   "cell_type": "code",
   "execution_count": null,
   "id": "158be575",
   "metadata": {},
   "outputs": [],
   "source": [
    "%%bigquery\n",
    "DROP SCHEMA IF EXISTS `pp-bigquery-02.demo_dataset_<your_name>`;"
   ]
  },
  {
   "cell_type": "markdown",
   "id": "44189ced",
   "metadata": {},
   "source": [
    "For more information, refer to the [BigQuery User Documentation](https://cloud.google.com/bigquery/docs)."
   ]
  },
  {
   "cell_type": "markdown",
   "id": "a5d3aede",
   "metadata": {},
   "source": [
    "### Please Note\n",
    "While we used `SELECT *` for simplicity, remember that specifying exact columns is a best practice in BigQuery, especially when dealing with large datasets. We'll explore more advanced topics and best practices later in the course."
   ]
  },
  {
   "cell_type": "markdown",
   "id": "7d76a0b6",
   "metadata": {},
   "source": [
    "## Summary\n",
    "In this notebook, you got familiar with BigQuery SQL operations. You created datasets and tables, inserted and managed records, and learned how to clean up by dropping tables and datasets. "
   ]
  }
 ],
 "metadata": {
  "kernelspec": {
   "display_name": "Python 3 (ipykernel)",
   "language": "python",
   "name": "python3"
  },
  "language_info": {
   "codemirror_mode": {
    "name": "ipython",
    "version": 3
   },
   "file_extension": ".py",
   "mimetype": "text/x-python",
   "name": "python",
   "nbconvert_exporter": "python",
   "pygments_lexer": "ipython3",
   "version": "3.11.6"
  }
 },
 "nbformat": 4,
 "nbformat_minor": 5
}
