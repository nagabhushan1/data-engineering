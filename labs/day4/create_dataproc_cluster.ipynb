{
 "cells": [
  {
   "cell_type": "markdown",
   "id": "e5731114",
   "metadata": {},
   "source": [
    "# Create a Dataproc Cluster using CloudShell\n",
    "\n",
    "Create a **Google Cloud Dataproc** single-node cluster with Jupyter enabled.  \n",
    "\n",
    "**Prerequisites**\n",
    "- Your user has permissions to create Dataproc clusters in the project.\n",
    "- APIs enabled: **Dataproc API** and **Compute Engine API**.\n"
   ]
  },
  {
   "cell_type": "code",
   "execution_count": null,
   "id": "321beb9b",
   "metadata": {},
   "outputs": [],
   "source": [
    "# Set project & region\n",
    "PROJECT_ID=pp-bigquery-03\n",
    "REGION=us-east1\n",
    "gcloud config set project \"$PROJECT_ID\"\n",
    "\n",
    "# Default Compute Engine service account\n",
    "PROJECT_NUMBER=$(gcloud projects describe \"$PROJECT_ID\" --format='value(projectNumber)')\n",
    "COMPUTE_SA=\"${PROJECT_NUMBER}-compute@developer.gserviceaccount.com\"\n",
    "\n",
    "# Create staging/temp buckets in the same region (skip if they already exist)\n",
    "gcloud storage buckets create \"gs://${PROJECT_ID}-dp-staging\" --location=\"$REGION\"\n",
    "gcloud storage buckets create \"gs://${PROJECT_ID}-dp-temp\"    --location=\"$REGION\"\n",
    "\n",
    "# Grant the VM service account object-level permissions on both buckets\n",
    "gcloud storage buckets add-iam-policy-binding \"gs://${PROJECT_ID}-dp-staging\" \\\n",
    "  --member=\"serviceAccount:${COMPUTE_SA}\" \\\n",
    "  --role=\"roles/storage.objectAdmin\"\n",
    "\n",
    "gcloud storage buckets add-iam-policy-binding \"gs://${PROJECT_ID}-dp-temp\" \\\n",
    "  --member=\"serviceAccount:${COMPUTE_SA}\" \\\n",
    "  --role=\"roles/storage.objectAdmin\"\n",
    "\n",
    "# Safe cluster name: lowercase, digits only (no underscores), <=51 chars\n",
    "CLUSTER=\"learner-$(whoami | tr '[:upper:]' '[:lower:]' | tr -cd 'a-z0-9' | cut -c1-40)\"\n",
    "\n",
    "# Create the cluster and EXPLICITLY use your buckets\n",
    "gcloud dataproc clusters create \"$CLUSTER\" \\\n",
    "  --region=\"$REGION\" \\\n",
    "  --single-node \\\n",
    "  --master-boot-disk-size=60 \\\n",
    "  --image-version=2.2-debian12 \\\n",
    "  --enable-component-gateway \\\n",
    "  --optional-components=JUPYTER \\\n",
    "  --service-account=\"$COMPUTE_SA\" \\\n",
    "  --bucket=\"${PROJECT_ID}-dp-staging\" \\\n",
    "  --temp-bucket=\"${PROJECT_ID}-dp-temp\""
   ]
  }
 ],
 "metadata": {
  "kernelspec": {
   "display_name": "Python 3",
   "language": "python",
   "name": "python3"
  }
 },
 "nbformat": 4,
 "nbformat_minor": 5
}
