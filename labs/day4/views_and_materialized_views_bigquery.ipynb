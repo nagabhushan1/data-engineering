{
 "cells": [
  {
   "cell_type": "markdown",
   "id": "7b91a4e4",
   "metadata": {},
   "source": [
    "## Views"
   ]
  },
  {
   "cell_type": "markdown",
   "id": "e91c76b4-8179-4af0-9f6d-f7328240fe34",
   "metadata": {},
   "source": [
    "### Create Sample View\n",
    "\n",
    "In BigQuery, a view is a virtual table that is defined by a SQL query. It presents the results of the query as if they were stored in a table, allowing you to encapsulate complex SQL queries and reuse them conveniently. Views are particularly useful for the following reasons:"
   ]
  },
  {
   "cell_type": "code",
   "execution_count": null,
   "id": "f87f9997-e2fb-4137-916c-b61d53dc48a5",
   "metadata": {},
   "outputs": [],
   "source": [
    "CREATE VIEW\n",
    "  `pp-bigquery-02`.demo_dataset_<your_name>.sample_view AS\n",
    "SELECT\n",
    "  order_status,\n",
    "  COUNT(*) AS order_count\n",
    "FROM\n",
    "  `pp-bigquery-02`.demo_retail.orders\n",
    "GROUP BY\n",
    "  order_status;"
   ]
  },
  {
   "cell_type": "markdown",
   "id": "7fd42472-25ae-4ce8-a8a8-5025da4f7bc1",
   "metadata": {},
   "source": [
    "## Materialized Views"
   ]
  },
  {
   "cell_type": "markdown",
   "id": "a4a70bac-9f45-481b-a930-690c075d2096",
   "metadata": {},
   "source": [
    "In BigQuery, a materialized view is a precomputed view that periodically caches the result of a query for increased performance and efficiency, especially for complex and frequently executed queries. "
   ]
  },
  {
   "cell_type": "code",
   "execution_count": null,
   "id": "e43ab23f-851a-4236-8faf-84eef6cbcce8",
   "metadata": {},
   "outputs": [],
   "source": [
    "%%bigquery \n",
    "\n",
    "CREATE MATERIALIZED VIEW\n",
    "  `pp-bigquery-02`.demo_dataset_<your_name>.sample_materialized_view AS\n",
    "SELECT\n",
    "  order_status,\n",
    "  COUNT(*) AS order_count\n",
    "FROM\n",
    "  `pp-bigquery-02`.demo_retail.orders\n",
    "GROUP BY\n",
    "  order_status;\n"
   ]
  },
  {
   "cell_type": "markdown",
   "id": "8050d255-be8d-4e84-a62e-167b89bec878",
   "metadata": {},
   "source": [
    "### Drop Dataset (Schema)\n",
    "\n",
    "This query is used to delete an entire dataset (also referred to as a schema in some database systems) from the `pp-bigquery-02` project. The `CASCADE` specifies that if the dataset contains any objects (like tables, views, or materialized views), they should also be deleted. This option ensures that the dataset and all its contents are entirely removed."
   ]
  },
  {
   "cell_type": "code",
   "execution_count": null,
   "id": "62da6062-5838-4811-bcca-3008e64f68f4",
   "metadata": {},
   "outputs": [],
   "source": [
    "%%bigquery \n",
    "\n",
    "DROP SCHEMA\n",
    "  `pp-bigquery-02`.demo_dataset_<your_name> CASCADE;"
   ]
  }
 ],
 "metadata": {
  "kernelspec": {
   "display_name": "Python 3 (ipykernel)",
   "language": "python",
   "name": "python3"
  },
  "language_info": {
   "codemirror_mode": {
    "name": "ipython",
    "version": 3
   },
   "file_extension": ".py",
   "mimetype": "text/x-python",
   "name": "python",
   "nbconvert_exporter": "python",
   "pygments_lexer": "ipython3",
   "version": "3.11.6"
  }
 },
 "nbformat": 4,
 "nbformat_minor": 5
}
