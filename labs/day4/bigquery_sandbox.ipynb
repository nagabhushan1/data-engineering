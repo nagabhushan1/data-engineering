{
 "cells": [
  {
   "cell_type": "markdown",
   "id": "6ed6a2ce",
   "metadata": {},
   "source": [
    "# Setting Up a BigQuery Sandbox Environment"
   ]
  },
  {
   "cell_type": "markdown",
   "id": "486279cd",
   "metadata": {},
   "source": [
    "## Introduction\n",
    "This notebook guides you through the process of setting up a BigQuery Sandbox environment using a free account. The BigQuery Sandbox allows users to explore the capabilities of Google's BigQuery service without the need for a billing account."
   ]
  },
  {
   "cell_type": "markdown",
   "id": "9db53bbc",
   "metadata": {},
   "source": [
    "## Steps to Set Up BigQuery Sandbox\n",
    "1. Visit the [Google Cloud Console](https://console.cloud.google.com/).\n",
    "2. Sign in with your Google account. If you do not have a Google account, you will need to create one.\n",
    "3. Navigate to the BigQuery Console.\n",
    "4. The BigQuery Sandbox environment is automatically activated when you visit the BigQuery Console for the first time with your Google account.\n",
    "5. Start using BigQuery without providing a credit card or enabling billing for your project."
   ]
  },
  {
   "cell_type": "markdown",
   "id": "c4bdc376",
   "metadata": {},
   "source": [
    "## Limitations of BigQuery Sandbox\n",
    "BigQuery Sandbox comes with certain limitations in terms of storage and compute resources. Here are the key limitations:\n",
    "- **Storage:** You can store up to 10 GB of data at no cost.\n",
    "- **Query Processing:** You can process up to 1 TB of data per month at no cost.\n",
    "\n",
    "Note: Once you reach these limits, you will need to upgrade to a paid account to continue using BigQuery services."
   ]
  },
  {
   "cell_type": "markdown",
   "id": "b406bf17",
   "metadata": {},
   "source": [
    "### Simple SELECT with aliases\n"
   ]
  },
  {
   "cell_type": "code",
   "execution_count": null,
   "metadata": {},
   "outputs": [],
   "source": [
    "%%bigquery\n",
    "SELECT * FROM (SELECT \"apple\" AS fruit, \"carrot\" AS vegetable);\n"
   ]
  },
  {
   "cell_type": "markdown",
   "metadata": {},
   "source": [
    "### UNION ALL basics\n"
   ]
  },
  {
   "cell_type": "code",
   "execution_count": null,
   "metadata": {},
   "outputs": [],
   "source": [
    "%%bigquery\n",
    "SELECT \"apple\" AS fruit\n",
    "UNION ALL SELECT \"banana\"\n",
    "UNION ALL SELECT \"cherry\";\n"
   ]
  },
  {
   "cell_type": "markdown",
   "metadata": {},
   "source": [
    "### WHERE filter on inline data\n"
   ]
  },
  {
   "cell_type": "code",
   "execution_count": null,
   "metadata": {},
   "outputs": [],
   "source": [
    "%%bigquery\n",
    "SELECT * FROM (\n",
    "  SELECT \"apple\" AS fruit, 10 AS qty UNION ALL\n",
    "  SELECT \"banana\", 5 UNION ALL\n",
    "  SELECT \"cherry\", 12\n",
    ")\n",
    "WHERE qty > 8;\n"
   ]
  },
  {
   "cell_type": "markdown",
   "metadata": {},
   "source": [
    "### ORDER BY descending\n"
   ]
  },
  {
   "cell_type": "code",
   "execution_count": null,
   "metadata": {},
   "outputs": [],
   "source": [
    "%%bigquery\n",
    "SELECT * FROM (\n",
    "  SELECT \"apple\" AS fruit, 10 AS qty UNION ALL\n",
    "  SELECT \"banana\", 5 UNION ALL\n",
    "  SELECT \"cherry\", 12\n",
    ")\n",
    "ORDER BY qty DESC;\n"
   ]
  },
  {
   "cell_type": "markdown",
   "metadata": {},
   "source": [
    "### GROUP BY and COUNT\n"
   ]
  },
  {
   "cell_type": "code",
   "execution_count": null,
   "metadata": {},
   "outputs": [],
   "source": [
    "%%bigquery\n",
    "SELECT fruit, COUNT(*) AS cnt\n",
    "FROM (\n",
    "  SELECT \"apple\" AS fruit UNION ALL\n",
    "  SELECT \"banana\" UNION ALL\n",
    "  SELECT \"apple\"\n",
    ")\n",
    "GROUP BY fruit;\n"
   ]
  },
  {
   "cell_type": "markdown",
   "metadata": {},
   "source": [
    "### CASE WHEN for labeling\n"
   ]
  },
  {
   "cell_type": "code",
   "execution_count": null,
   "metadata": {},
   "outputs": [],
   "source": [
    "%%bigquery\n",
    "SELECT fruit,\n",
    "  CASE WHEN qty >= 10 THEN \"High\" ELSE \"Low\" END AS stock_level\n",
    "FROM (\n",
    "  SELECT \"apple\" AS fruit, 10 AS qty UNION ALL\n",
    "  SELECT \"banana\", 5\n",
    ");\n"
   ]
  },
  {
   "cell_type": "markdown",
   "metadata": {},
   "source": [
    "### DISTINCT values\n"
   ]
  },
  {
   "cell_type": "code",
   "execution_count": null,
   "metadata": {},
   "outputs": [],
   "source": [
    "%%bigquery\n",
    "SELECT DISTINCT fruit\n",
    "FROM (\n",
    "  SELECT \"apple\" AS fruit UNION ALL\n",
    "  SELECT \"banana\" UNION ALL\n",
    "  SELECT \"apple\"\n",
    ");\n"
   ]
  },
  {
   "cell_type": "markdown",
   "metadata": {},
   "source": [
    "### LIMIT and OFFSET\n"
   ]
  },
  {
   "cell_type": "code",
   "execution_count": null,
   "metadata": {},
   "outputs": [],
   "source": [
    "%%bigquery\n",
    "SELECT fruit\n",
    "FROM UNNEST([\"apple\",\"banana\",\"cherry\",\"date\",\"mango\"]) AS fruit\n",
    "ORDER BY fruit\n",
    "LIMIT 3 OFFSET 1;\n"
   ]
  },
  {
   "cell_type": "markdown",
   "metadata": {},
   "source": [
    "### IN and BETWEEN\n"
   ]
  },
  {
   "cell_type": "code",
   "execution_count": null,
   "metadata": {},
   "outputs": [],
   "source": [
    "%%bigquery\n",
    "SELECT * FROM (\n",
    "  SELECT \"apple\" AS fruit, 10 AS qty UNION ALL\n",
    "  SELECT \"banana\", 5 UNION ALL\n",
    "  SELECT \"cherry\", 12\n",
    ")\n",
    "WHERE fruit IN (\"apple\",\"cherry\") AND qty BETWEEN 10 AND 20;\n"
   ]
  },
  {
   "cell_type": "markdown",
   "metadata": {},
   "source": [
    "### LIKE and REGEXP_CONTAINS\n"
   ]
  },
  {
   "cell_type": "code",
   "execution_count": null,
   "metadata": {},
   "outputs": [],
   "source": [
    "%%bigquery\n",
    "SELECT fruit\n",
    "FROM UNNEST([\"apple\",\"banana\",\"cherry\",\"apricot\"]) AS fruit\n",
    "WHERE fruit LIKE \"ap%\"\n",
    "   OR REGEXP_CONTAINS(fruit, r\"an\");\n"
   ]
  },
  {
   "cell_type": "markdown",
   "metadata": {},
   "source": [
    "### Math and string functions\n"
   ]
  },
  {
   "cell_type": "code",
   "execution_count": null,
   "metadata": {},
   "outputs": [],
   "source": [
    "%%bigquery\n",
    "SELECT\n",
    "  \"apple\" AS fruit,\n",
    "  LENGTH(\"apple\") AS name_len,\n",
    "  10 + 5 AS total,\n",
    "  CONCAT(\"fresh_\", \"fruit\") AS tag;\n"
   ]
  },
  {
   "cell_type": "markdown",
   "metadata": {},
   "source": [
    "### Array to rows with UNNEST\n"
   ]
  },
  {
   "cell_type": "code",
   "execution_count": null,
   "metadata": {},
   "outputs": [],
   "source": [
    "%%bigquery\n",
    "SELECT fruit\n",
    "FROM UNNEST([\"apple\",\"banana\",\"cherry\"]) AS fruit;\n"
   ]
  },
  {
   "cell_type": "markdown",
   "metadata": {},
   "source": [
    "### Structs (rows) with UNNEST\n"
   ]
  },
  {
   "cell_type": "code",
   "execution_count": null,
   "metadata": {},
   "outputs": [],
   "source": [
    "%%bigquery\n",
    "SELECT item.name, item.price\n",
    "FROM UNNEST([STRUCT(\"apple\" AS name, 1.2 AS price),\n",
    "             STRUCT(\"banana\", 0.8),\n",
    "             STRUCT(\"cherry\", 2.1)]) AS item;\n"
   ]
  },
  {
   "cell_type": "markdown",
   "metadata": {},
   "source": [
    "### Arrays of STRUCT and filtering\n"
   ]
  },
  {
   "cell_type": "code",
   "execution_count": null,
   "metadata": {},
   "outputs": [],
   "source": [
    "%%bigquery\n",
    "SELECT i.name, i.price\n",
    "FROM UNNEST([STRUCT(\"apple\" AS name, 1.2 AS price),\n",
    "             STRUCT(\"banana\", 0.8),\n",
    "             STRUCT(\"cherry\", 2.1)]) AS i\n",
    "WHERE i.price > 1;\n"
   ]
  },
  {
   "cell_type": "markdown",
   "metadata": {},
   "source": [
    "### WITH (CTE) basics\n"
   ]
  },
  {
   "cell_type": "code",
   "execution_count": null,
   "metadata": {},
   "outputs": [],
   "source": [
    "%%bigquery\n",
    "WITH fruits AS (\n",
    "  SELECT \"apple\" AS fruit, 10 AS qty UNION ALL\n",
    "  SELECT \"banana\", 5 UNION ALL\n",
    "  SELECT \"cherry\", 12\n",
    ")\n",
    "SELECT fruit, qty*2 AS double_qty\n",
    "FROM fruits;\n"
   ]
  },
  {
   "cell_type": "markdown",
   "metadata": {},
   "source": [
    "### Aggregations with HAVING\n"
   ]
  },
  {
   "cell_type": "code",
   "execution_count": null,
   "metadata": {},
   "outputs": [],
   "source": [
    "%%bigquery\n",
    "WITH sales AS (\n",
    "  SELECT \"apple\" AS fruit, 2 AS units UNION ALL\n",
    "  SELECT \"apple\", 3 UNION ALL\n",
    "  SELECT \"banana\", 4 UNION ALL\n",
    "  SELECT \"banana\", 1\n",
    ")\n",
    "SELECT fruit, SUM(units) AS total_units\n",
    "FROM sales\n",
    "GROUP BY fruit\n",
    "HAVING SUM(units) >= 5;\n"
   ]
  },
  {
   "cell_type": "markdown",
   "metadata": {},
   "source": [
    "### JOIN two inline tables\n"
   ]
  },
  {
   "cell_type": "code",
   "execution_count": null,
   "metadata": {},
   "outputs": [],
   "source": [
    "%%bigquery\n",
    "WITH prices AS (\n",
    "  SELECT \"apple\" AS fruit, 1.2 AS price UNION ALL\n",
    "  SELECT \"banana\", 0.8\n",
    "),\n",
    "stock AS (\n",
    "  SELECT \"apple\" AS fruit, 10 AS qty UNION ALL\n",
    "  SELECT \"banana\", 5\n",
    ")\n",
    "SELECT p.fruit, p.price, s.qty, p.price * s.qty AS inventory_value\n",
    "FROM prices p\n",
    "JOIN stock s\n",
    "USING (fruit);\n"
   ]
  },
  {
   "cell_type": "markdown",
   "metadata": {},
   "source": [
    "### LEFT JOIN with missing match\n"
   ]
  },
  {
   "cell_type": "code",
   "execution_count": null,
   "metadata": {},
   "outputs": [],
   "source": [
    "%%bigquery\n",
    "WITH A AS (\n",
    "  SELECT 1 AS id, \"Alice\" AS name UNION ALL\n",
    "  SELECT 2, \"Bob\"\n",
    "),\n",
    "B AS (\n",
    "  SELECT 2 AS id, \"Bangalore\" AS city\n",
    ")\n",
    "SELECT A.id, A.name, B.city\n",
    "FROM A LEFT JOIN B USING (id);\n"
   ]
  },
  {
   "cell_type": "markdown",
   "metadata": {},
   "source": [
    "### Cross join with UNNEST to split strings\n"
   ]
  },
  {
   "cell_type": "code",
   "execution_count": null,
   "metadata": {},
   "outputs": [],
   "source": [
    "%%bigquery\n",
    "WITH data AS (\n",
    "  SELECT \"apple,banana,cherry\" AS csv\n",
    ")\n",
    "SELECT part\n",
    "FROM data, UNNEST(SPLIT(csv, \",\")) AS part;\n"
   ]
  },
  {
   "cell_type": "markdown",
   "metadata": {},
   "source": [
    "### Window function: ROW_NUMBER\n"
   ]
  },
  {
   "cell_type": "code",
   "execution_count": null,
   "metadata": {},
   "outputs": [],
   "source": [
    "%%bigquery\n",
    "WITH s AS (\n",
    "  SELECT \"apple\" AS fruit, 10 AS qty UNION ALL\n",
    "  SELECT \"banana\", 5 UNION ALL\n",
    "  SELECT \"cherry\", 12 UNION ALL\n",
    "  SELECT \"banana\", 9\n",
    ")\n",
    "SELECT fruit, qty,\n",
    "       ROW_NUMBER() OVER (PARTITION BY fruit ORDER BY qty DESC) AS rn\n",
    "FROM s;\n"
   ]
  },
  {
   "cell_type": "markdown",
   "metadata": {},
   "source": [
    "### QUALIFY to keep top-1 per group\n"
   ]
  },
  {
   "cell_type": "code",
   "execution_count": null,
   "metadata": {},
   "outputs": [],
   "source": [
    "%%bigquery\n",
    "WITH s AS (\n",
    "  SELECT \"apple\" AS fruit, 10 AS qty UNION ALL\n",
    "  SELECT \"banana\", 5 UNION ALL\n",
    "  SELECT \"cherry\", 12 UNION ALL\n",
    "  SELECT \"banana\", 9\n",
    ")\n",
    "SELECT fruit, qty\n",
    "FROM s\n",
    "QUALIFY ROW_NUMBER() OVER (PARTITION BY fruit ORDER BY qty DESC) = 1;\n"
   ]
  },
  {
   "cell_type": "markdown",
   "metadata": {},
   "source": [
    "### COALESCE and IFNULL\n"
   ]
  },
  {
   "cell_type": "code",
   "execution_count": null,
   "metadata": {},
   "outputs": [],
   "source": [
    "%%bigquery\n",
    "SELECT\n",
    "  COALESCE(NULL, \"fallback\") AS coalesced,\n",
    "  IFNULL(NULL, \"default\") AS ifnull_val;\n"
   ]
  },
  {
   "cell_type": "markdown",
   "metadata": {},
   "source": [
    "### SAFE_CAST (no errors)\n"
   ]
  },
  {
   "cell_type": "code",
   "execution_count": null,
   "metadata": {},
   "outputs": [],
   "source": [
    "%%bigquery\n",
    "SELECT\n",
    "  SAFE_CAST(\"123\" AS INT64) AS ok_int,\n",
    "  SAFE_CAST(\"abc\" AS INT64) AS null_int;\n"
   ]
  },
  {
   "cell_type": "markdown",
   "metadata": {},
   "source": [
    "### DATE and TIMESTAMP creation\n"
   ]
  },
  {
   "cell_type": "code",
   "execution_count": null,
   "metadata": {},
   "outputs": [],
   "source": [
    "%%bigquery\n",
    "SELECT\n",
    "  DATE(2025, 8, 21) AS d,\n",
    "  TIMESTAMP(\"2025-08-21 10:00:00+00\") AS ts;\n"
   ]
  },
  {
   "cell_type": "markdown",
   "metadata": {},
   "source": [
    "### DATE functions\n"
   ]
  },
  {
   "cell_type": "code",
   "execution_count": null,
   "metadata": {},
   "outputs": [],
   "source": [
    "%%bigquery\n",
    "SELECT\n",
    "  DATE \"2025-08-21\" AS d,\n",
    "  EXTRACT(YEAR FROM DATE \"2025-08-21\") AS yr,\n",
    "  DATE_ADD(DATE \"2025-08-21\", INTERVAL 7 DAY) AS plus_7d;\n"
   ]
  },
  {
   "cell_type": "markdown",
   "metadata": {},
   "source": [
    "### String to date parse with PARSE_DATE\n"
   ]
  },
  {
   "cell_type": "code",
   "execution_count": null,
   "metadata": {},
   "outputs": [],
   "source": [
    "%%bigquery\n",
    "SELECT\n",
    "  PARSE_DATE(\"%Y/%m/%d\", \"2025/08/21\") AS d;\n"
   ]
  },
  {
   "cell_type": "markdown",
   "metadata": {},
   "source": [
    "### ARRAY functions: length and contains\n"
   ]
  },
  {
   "cell_type": "code",
   "execution_count": null,
   "metadata": {},
   "outputs": [],
   "source": [
    "%%bigquery\n",
    "SELECT\n",
    "  ARRAY_LENGTH([1,2,3]) AS len,\n",
    "  2 IN UNNEST([1,2,3]) AS has_two;\n"
   ]
  },
  {
   "cell_type": "markdown",
   "metadata": {},
   "source": [
    "### Build array from rows with ARRAY_AGG\n"
   ]
  },
  {
   "cell_type": "code",
   "execution_count": null,
   "metadata": {},
   "outputs": [],
   "source": [
    "%%bigquery\n",
    "WITH items AS (\n",
    "  SELECT \"apple\" AS fruit, 10 AS qty UNION ALL\n",
    "  SELECT \"banana\", 5 UNION ALL\n",
    "  SELECT \"cherry\", 12\n",
    ")\n",
    "SELECT ARRAY_AGG(fruit ORDER BY qty DESC) AS fruits_by_qty\n",
    "FROM items;\n"
   ]
  },
  {
   "cell_type": "markdown",
   "metadata": {},
   "source": [
    "### Subquery in SELECT\n"
   ]
  },
  {
   "cell_type": "code",
   "execution_count": null,
   "metadata": {},
   "outputs": [],
   "source": [
    "%%bigquery\n",
    "SELECT\n",
    "  (SELECT COUNT(*) FROM UNNEST([1,2,3,4])) AS cnt,\n",
    "  (SELECT MAX(x) FROM UNNEST([1,9,2]) AS x) AS mx;\n"
   ]
  },
  {
   "cell_type": "markdown",
   "metadata": {},
   "source": [
    "### Scalar subquery in WHERE\n"
   ]
  },
  {
   "cell_type": "code",
   "execution_count": null,
   "metadata": {},
   "outputs": [],
   "source": [
    "%%bigquery\n",
    "SELECT fruit, qty\n",
    "FROM (\n",
    "  SELECT \"apple\" AS fruit, 10 AS qty UNION ALL\n",
    "  SELECT \"banana\", 5 UNION ALL\n",
    "  SELECT \"cherry\", 12\n",
    ")\n",
    "WHERE qty > (SELECT AVG(q) FROM (SELECT 10 AS q UNION ALL SELECT 5 UNION ALL SELECT 12));\n"
   ]
  },
  {
   "cell_type": "markdown",
   "metadata": {},
   "source": [
    "### SELECT * REPLACE to modify a column\n"
   ]
  },
  {
   "cell_type": "code",
   "execution_count": null,
   "metadata": {},
   "outputs": [],
   "source": [
    "%%bigquery\n",
    "WITH items AS (\n",
    "  SELECT \"apple\" AS fruit, 10 AS qty\n",
    ")\n",
    "SELECT * REPLACE ( (qty*2) AS qty )\n",
    "FROM items;\n"
   ]
  },
  {
   "cell_type": "markdown",
   "metadata": {},
   "source": [
    "### Named STRUCT fields and dot access\n"
   ]
  },
  {
   "cell_type": "code",
   "execution_count": null,
   "metadata": {},
   "outputs": [],
   "source": [
    "%%bigquery\n",
    "SELECT\n",
    "  s.name, s.details.size\n",
    "FROM UNNEST([STRUCT(\"tshirt\" AS name, STRUCT(\"M\" AS size, \"blue\" AS color) AS details)]) AS s;\n"
   ]
  },
  {
   "cell_type": "markdown",
   "metadata": {},
   "source": [
    "### Pivot-like aggregation with CASE\n"
   ]
  },
  {
   "cell_type": "code",
   "execution_count": null,
   "metadata": {},
   "outputs": [],
   "source": [
    "%%bigquery\n",
    "WITH sales AS (\n",
    "  SELECT \"apple\" AS fruit, \"store1\" AS store, 5 AS units UNION ALL\n",
    "  SELECT \"apple\",\"store2\", 7 UNION ALL\n",
    "  SELECT \"banana\",\"store1\", 3\n",
    ")\n",
    "SELECT\n",
    "  fruit,\n",
    "  SUM(CASE WHEN store=\"store1\" THEN units ELSE 0 END) AS store1_units,\n",
    "  SUM(CASE WHEN store=\"store2\" THEN units ELSE 0 END) AS store2_units\n",
    "FROM sales\n",
    "GROUP BY fruit;\n"
   ]
  },
  {
   "cell_type": "markdown",
   "metadata": {},
   "source": [
    "### String functions: SPLIT / CONCAT / UPPER\n"
   ]
  },
  {
   "cell_type": "code",
   "execution_count": null,
   "metadata": {},
   "outputs": [],
   "source": [
    "%%bigquery\n",
    "SELECT\n",
    "  SPLIT(\"a,b,c\", \",\" ) AS parts,\n",
    "  CONCAT(\"Big\", \"Query\") AS joined,\n",
    "  UPPER(\"hello\") AS uppered;\n"
   ]
  },
  {
   "cell_type": "markdown",
   "metadata": {},
   "source": [
    "### Numeric rounding functions\n"
   ]
  },
  {
   "cell_type": "code",
   "execution_count": null,
   "metadata": {},
   "outputs": [],
   "source": [
    "%%bigquery\n",
    "SELECT\n",
    "  ROUND(3.14159, 2) AS r2,\n",
    "  CEIL(2.01) AS c,\n",
    "  FLOOR(2.99) AS f;\n"
   ]
  },
  {
   "cell_type": "markdown",
   "metadata": {},
   "source": [
    "### Boolean logic with AND/OR/NOT\n"
   ]
  },
  {
   "cell_type": "code",
   "execution_count": null,
   "metadata": {},
   "outputs": [],
   "source": [
    "%%bigquery\n",
    "SELECT\n",
    "  TRUE AND FALSE AS t_and_f,\n",
    "  TRUE OR FALSE AS t_or_f,\n",
    "  NOT TRUE AS not_t;\n"
   ]
  },
  {
   "cell_type": "markdown",
   "metadata": {},
   "source": [
    "### Window function: moving average\n"
   ]
  },
  {
   "cell_type": "code",
   "execution_count": null,
   "metadata": {},
   "outputs": [],
   "source": [
    "%%bigquery\n",
    "WITH s AS (\n",
    "  SELECT 1 AS day, 10 AS val UNION ALL\n",
    "  SELECT 2, 20 UNION ALL\n",
    "  SELECT 3, 30 UNION ALL\n",
    "  SELECT 4, 40\n",
    ")\n",
    "SELECT\n",
    "  day, val,\n",
    "  AVG(val) OVER (ORDER BY day ROWS BETWEEN 1 PRECEDING AND CURRENT ROW) AS mov_avg\n",
    "FROM s;\n"
   ]
  },
  {
   "cell_type": "markdown",
   "metadata": {},
   "source": [
    "### QUALIFY with RANK for top-N\n"
   ]
  },
  {
   "cell_type": "code",
   "execution_count": null,
   "metadata": {},
   "outputs": [],
   "source": [
    "%%bigquery\n",
    "WITH s AS (\n",
    "  SELECT \"A\" AS grp, 10 AS score UNION ALL\n",
    "  SELECT \"A\", 5 UNION ALL\n",
    "  SELECT \"A\", 8 UNION ALL\n",
    "  SELECT \"B\", 12 UNION ALL\n",
    "  SELECT \"B\", 9\n",
    ")\n",
    "SELECT grp, score\n",
    "FROM s\n",
    "QUALIFY RANK() OVER (PARTITION BY grp ORDER BY score DESC) <= 2;\n"
   ]
  },
  {
   "cell_type": "markdown",
   "metadata": {},
   "source": [
    "### Safe division to avoid division-by-zero\n"
   ]
  },
  {
   "cell_type": "code",
   "execution_count": null,
   "metadata": {},
   "outputs": [],
   "source": [
    "%%bigquery\n",
    "WITH s AS (\n",
    "  SELECT \"apple\" AS fruit, 10 AS qty, 2 AS boxes UNION ALL\n",
    "  SELECT \"banana\", 5, 0\n",
    ")\n",
    "SELECT fruit, qty, boxes,\n",
    "  IF(boxes = 0, NULL, qty / boxes) AS per_box\n",
    "FROM s;\n"
   ]
  },
  {
   "cell_type": "markdown",
   "metadata": {},
   "source": [
    "### IF / ELSEIF via CASE\n"
   ]
  },
  {
   "cell_type": "code",
   "execution_count": null,
   "metadata": {},
   "outputs": [],
   "source": [
    "%%bigquery\n",
    "SELECT n,\n",
    "  CASE\n",
    "    WHEN n % 15 = 0 THEN \"FizzBuzz\"\n",
    "    WHEN n % 3 = 0 THEN \"Fizz\"\n",
    "    WHEN n % 5 = 0 THEN \"Buzz\"\n",
    "    ELSE CAST(n AS STRING)\n",
    "  END AS label\n",
    "FROM UNNEST([1,2,3,4,5,15]) AS n;\n"
   ]
  },
  {
   "cell_type": "markdown",
   "metadata": {},
   "source": [
    "### Datetime extraction\n"
   ]
  },
  {
   "cell_type": "code",
   "execution_count": null,
   "metadata": {},
   "outputs": [],
   "source": [
    "%%bigquery\n",
    "SELECT\n",
    "  DATETIME \"2025-08-21 14:35:00\" AS dt,\n",
    "  EXTRACT(HOUR FROM DATETIME \"2025-08-21 14:35:00\") AS hr;\n"
   ]
  },
  {
   "cell_type": "markdown",
   "metadata": {},
   "source": [
    "### Working with NULLs\n"
   ]
  },
  {
   "cell_type": "code",
   "execution_count": null,
   "metadata": {},
   "outputs": [],
   "source": [
    "%%bigquery\n",
    "SELECT\n",
    "  NULL AS a,\n",
    "  IFNULL(NULL, \"fallback\") AS b,\n",
    "  NULLIF(\"x\",\"x\") AS c;\n"
   ]
  },
  {
   "cell_type": "markdown",
   "metadata": {},
   "source": [
    "### ARRAY subscript and OFFSET/ORDINAL\n"
   ]
  },
  {
   "cell_type": "code",
   "execution_count": null,
   "metadata": {},
   "outputs": [],
   "source": [
    "%%bigquery\n",
    "WITH arr AS (\n",
    "  SELECT [10,20,30] AS a\n",
    ")\n",
    "SELECT\n",
    "  a[OFFSET(0)] AS first0,\n",
    "  a[ORDINAL(2)] AS second1_based\n",
    "FROM arr;\n"
   ]
  },
  {
   "cell_type": "markdown",
   "metadata": {},
   "source": [
    "### Generate rows with UNNEST and filter\n"
   ]
  },
  {
   "cell_type": "code",
   "execution_count": null,
   "metadata": {},
   "outputs": [],
   "source": [
    "%%bigquery\n",
    "SELECT n\n",
    "FROM UNNEST([1,2,3,4,5,6,7,8,9,10]) AS n\n",
    "WHERE n % 2 = 0;\n"
   ]
  },
  {
   "cell_type": "markdown",
   "metadata": {},
   "source": [
    "### LEAST/GREATEST functions\n"
   ]
  },
  {
   "cell_type": "code",
   "execution_count": null,
   "metadata": {},
   "outputs": [],
   "source": [
    "%%bigquery\n",
    "SELECT\n",
    "  LEAST(10, 5, 7) AS mn,\n",
    "  GREATEST(10, 5, 7) AS mx;\n"
   ]
  }
 ],
 "metadata": {
  "colab": {
   "name": "BigQuery Inline Queries - Sandbox Examples"
  },
  "kernelspec": {
   "display_name": "Python 3",
   "language": "python",
   "name": "python3"
  },
  "language_info": {
   "name": "python",
   "version": "3.x"
  }
 },
 "nbformat": 4,
 "nbformat_minor": 5
}
