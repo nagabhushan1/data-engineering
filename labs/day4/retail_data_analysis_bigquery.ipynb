{
 "cells": [
  {
   "cell_type": "markdown",
   "id": "216f4fe6-600e-4b13-b006-814c81afe715",
   "metadata": {},
   "source": [
    "# BigQuery: A Powerful Tool for Data Analysis\n",
    "\n",
    "### Introduction to BigQuery for Data Analysis\n",
    "\n",
    "BigQuery, Google's serverless, highly scalable, and cost-effective multi-cloud data warehouse, is designed for agile data analysis. The core of data interaction in BigQuery is through SQL, especially the versatile **SQL SELECT** statements."
   ]
  },
  {
   "cell_type": "markdown",
   "id": "b051bd4a-e883-4bcd-b1a3-f53eac4e7d7a",
   "metadata": {},
   "source": [
    "### Order Item Overview\n",
    "\n",
    "\n",
    "This query retrieves a list of order items from the `order_items` table within the `demo_retail` dataset. Specifically, it:\n",
    "\n",
    "- Selects the `order_item_id` and `order_item_order_id` columns.\n",
    "- Renames `order_item_id` to `id` and `order_item_order_id` to `oid` for clarity in the results.\n",
    "- Limits the results to the first 10 records for a quick overview.\n",
    "\n",
    "The dataset is part of the `pp-bigquery-02` project, ensuring that the query operates within the correct BigQuery environment."
   ]
  },
  {
   "cell_type": "code",
   "execution_count": null,
   "id": "7882926c-8325-48ce-900c-edc9de5c132a",
   "metadata": {},
   "outputs": [],
   "source": [
    "%%bigquery \n",
    "\n",
    "SELECT\n",
    "    order_item_id AS id,\n",
    "    order_item_order_id AS oid\n",
    "FROM\n",
    "    `pp-bigquery-02.demo_retail.order_items`\n",
    "LIMIT 10 ;"
   ]
  },
  {
   "cell_type": "markdown",
   "id": "df60f209-7feb-47a3-bcef-39ccffd15ef1",
   "metadata": {},
   "source": [
    "### Unique Order Status\n",
    "\n",
    "This query retrieves distinct order statuses from the `orders` table within the `demo_retail` dataset, providing an overview of all unique order states present in the data. Specifically, it:\n",
    "\n",
    "- Selects the `order_status` column.\n",
    "- Uses the `DISTINCT` keyword to ensure each order status is listed only once, offering a clear view of all possible states an order can be in.\n",
    "\n",
    "The data is sourced from the `pp-bigquery-02` project's `demo_retail` dataset, ensuring the query is executed within the correct BigQuery environment.\n"
   ]
  },
  {
   "cell_type": "code",
   "execution_count": null,
   "id": "a41edb68-202d-4ff2-9cb5-6075f9022b5b",
   "metadata": {},
   "outputs": [],
   "source": [
    "SELECT\n",
    "  DISTINCT order_status\n",
    "FROM\n",
    "  `pp-bigquery-02.demo_retail.orders`"
   ]
  },
  {
   "cell_type": "markdown",
   "id": "707df083-8846-43c1-b640-5419d8b7bfdb",
   "metadata": {},
   "source": [
    "### Completed and Closed Orders\n",
    "\n",
    "This query extracts details about orders that are either completed or closed from the `orders` table within the `demo_retail` dataset. It aims to provide focused insights into orders that have reached the end of their processing cycle. Specifically, it:\n",
    "\n",
    "- Selects the `order_id`, `order_customer_id`, and `order_status` columns to provide a comprehensive view of each relevant order.\n",
    "- Filters the results to include only those orders where the `order_status` is either 'COMPLETE' or 'CLOSED', ensuring that the query focuses on finalized transactions.\n",
    "\n",
    "The data is extracted from the `pp-bigquery-02` project's `demo_retail` dataset, guaranteeing that the query is performed within the accurate BigQuery environment."
   ]
  },
  {
   "cell_type": "code",
   "execution_count": null,
   "id": "28baac07-de33-43ff-8b78-460d8f410419",
   "metadata": {},
   "outputs": [],
   "source": [
    "%%bigquery \n",
    "\n",
    "SELECT\n",
    "  order_id,\n",
    "  order_customer_id,\n",
    "  order_status\n",
    "FROM\n",
    "  `pp-bigquery-02`.demo_retail.orders\n",
    "WHERE\n",
    "  order_status IN ('COMPLETE', 'CLOSED');"
   ]
  },
  {
   "cell_type": "markdown",
   "id": "af46ce1a-ff18-48f7-9b91-8efb1ef420df",
   "metadata": {},
   "source": [
    "### High-Value Products\n",
    "\n",
    "This query is designed to identify products from the `products` table within the `demo_retail` dataset that have a price exceeding 200. It's particularly useful for analyzing higher-end items in the product catalog. \n"
   ]
  },
  {
   "cell_type": "code",
   "execution_count": null,
   "id": "77f3fe09-d8ef-4085-8db0-ba9b9789f982",
   "metadata": {},
   "outputs": [],
   "source": [
    "%%bigquery \n",
    "\n",
    "SELECT\n",
    "  product_id,\n",
    "  product_name,\n",
    "  product_price\n",
    "FROM\n",
    "  `pp-bigquery-02`.demo_retail.products\n",
    "WHERE\n",
    "  product_price > 200;"
   ]
  },
  {
   "cell_type": "markdown",
   "id": "bacdf937-5225-4cad-985f-ed381fc8ec7b",
   "metadata": {},
   "source": [
    "### Customers Without Orders\n",
    "\n",
    "This query identifies customers from the `customers` table within the `demo_retail` dataset who have not placed any orders. It's useful for understanding customer engagement and identifying customers who might need targeted marketing or engagement strategies. The query:\n",
    "\n",
    "- Selects `customer_id`, `customer_fname`, and `customer_lname` from the `customers` table to provide basic information about each customer.\n",
    "- Performs a left outer join on the `orders` table to match each customer with their orders.\n",
    "- Filters the results to include only those customers whose `order_customer_id` is null, indicating that these customers have not placed any orders.\n",
    "\n",
    "The query is executed against data in the `pp-bigquery-02` project's `demo_retail` dataset, ensuring accurate and contextually relevant results.\n",
    "\n",
    "```sql\n",
    "%%bigquery \n",
    "\n",
    "SELECT\n",
    "  c.customer_id,\n",
    "  c.customer_fname,\n",
    "  c.customer_lname\n",
    "FROM\n",
    "  `pp-bigquery-02.demo_retail.customers` c\n",
    "LEFT OUTER JOIN\n",
    "  `pp-bigquery-02.demo_retail.orders` o\n",
    "ON\n",
    "  o.order_customer_id = c.customer_id\n",
    "WHERE\n",
    "  o.order_customer_id IS NULL;\n"
   ]
  },
  {
   "cell_type": "markdown",
   "id": "bedbec17-12b8-46b6-a65d-cf7e84cf9969",
   "metadata": {},
   "source": [
    "### Daily Revenue by Product\n",
    "\n",
    "This query calculates the daily revenue generated by each product, focusing on orders that are either 'COMPLETE' or 'CLOSED' from the `orders` and `order_items` tables within the `demo_retail` dataset."
   ]
  },
  {
   "cell_type": "code",
   "execution_count": null,
   "id": "4e8a9c48-a00e-4a0b-9fac-56eb32cd04c9",
   "metadata": {},
   "outputs": [],
   "source": [
    "%%bigquery \n",
    "\n",
    "SELECT\n",
    "  o.order_date,\n",
    "  oi.order_item_product_id,\n",
    "  ROUND(SUM(oi.order_item_subtotal), 2) AS revenue\n",
    "FROM\n",
    "  `pp-bigquery-02.demo_retail.orders` AS o\n",
    "JOIN\n",
    "  `pp-bigquery-02.demo_retail.order_items` AS oi\n",
    "ON\n",
    "  o.order_id = oi.order_item_order_id\n",
    "WHERE\n",
    "  o.order_status IN ('COMPLETE', 'CLOSED')\n",
    "GROUP BY\n",
    "  1, 2\n",
    "ORDER BY\n",
    "  1, 3 DESC;\n"
   ]
  },
  {
   "cell_type": "markdown",
   "id": "42ab9ca7-dde1-4b92-b9b0-03cf916b6e05",
   "metadata": {},
   "source": [
    "### Daily and Cumulative Monthly Revenue\n",
    "\n",
    "This sophisticated query provides insights into both daily revenue and the cumulative monthly revenue for orders marked as 'COMPLETE' or 'CLOSED'. It employs Common Table Expressions (CTEs) and window functions, showcasing the powerful analytical capabilities of BigQuery SQL. \n"
   ]
  },
  {
   "cell_type": "code",
   "execution_count": null,
   "id": "59aca721-3f56-4341-a09e-c7ef9bd24379",
   "metadata": {},
   "outputs": [],
   "source": [
    "%%bigquery \n",
    "\n",
    "WITH\n",
    "  daily_revenue AS (\n",
    "  SELECT\n",
    "    o.order_date,\n",
    "    ROUND(SUM(oi.order_item_subtotal), 2) AS revenue\n",
    "  FROM\n",
    "    `pp-bigquery-02.demo_retail.orders` AS o\n",
    "  JOIN\n",
    "    `pp-bigquery-02.demo_retail.order_items` AS oi\n",
    "  ON\n",
    "    o.order_id = oi.order_item_order_id\n",
    "  WHERE\n",
    "    o.order_status IN ('COMPLETE', 'CLOSED')\n",
    "  GROUP BY\n",
    "    1 )\n",
    "SELECT\n",
    "  FORMAT_DATE('%Y%m', order_date) AS order_month,\n",
    "  order_date,\n",
    "  revenue,\n",
    "  ROUND(SUM(revenue) OVER (PARTITION BY FORMAT_DATE('%Y%m', order_date)\n",
    "    ORDER BY\n",
    "      order_date ), 2) AS revenue_cumulative\n",
    "FROM\n",
    "  daily_revenue\n",
    "ORDER BY\n",
    "  2;"
   ]
  },
  {
   "cell_type": "markdown",
   "id": "5a520224-faa2-4e3b-ade9-640b9e0e50fc",
   "metadata": {},
   "source": [
    "### Top 3 Daily Product Revenue\n",
    "\n",
    "This advanced query provides insights into the top 3 revenue-generating products for each day, focusing on orders marked as 'COMPLETE' or 'CLOSED'. It utilizes Common Table Expressions (CTEs) and window functions to perform a dense ranking of products based on their daily revenue. \n"
   ]
  },
  {
   "cell_type": "code",
   "execution_count": null,
   "id": "eca6afac-3e55-4984-98e4-69e0a7b3bc4b",
   "metadata": {},
   "outputs": [],
   "source": [
    "%%bigquery \n",
    "\n",
    "WITH\n",
    "  daily_product_revenue AS (\n",
    "  SELECT\n",
    "    o.order_date,\n",
    "    oi.order_item_product_id,\n",
    "    ROUND(SUM(oi.order_item_subtotal), 2) AS revenue\n",
    "  FROM\n",
    "    `pp-bigquery-02.demo_retail.orders` AS o\n",
    "  JOIN\n",
    "    `pp-bigquery-02.demo_retail.order_items` AS oi\n",
    "  ON\n",
    "    o.order_id = oi.order_item_order_id\n",
    "  WHERE\n",
    "    o.order_status IN ('COMPLETE', 'CLOSED')\n",
    "  GROUP BY\n",
    "    1, 2 )\n",
    "SELECT\n",
    "  *\n",
    "FROM (\n",
    "  SELECT\n",
    "    FORMAT_DATE('%Y%m', order_date) AS order_month,\n",
    "    order_date,\n",
    "    order_item_product_id,\n",
    "    revenue,\n",
    "    DENSE_RANK() OVER (PARTITION BY order_date ORDER BY revenue DESC ) AS denserank\n",
    "  FROM\n",
    "    daily_product_revenue )\n",
    "WHERE\n",
    "  denserank <= 3\n",
    "ORDER BY\n",
    "  2, 4 DESC;\n"
   ]
  },
  {
   "cell_type": "markdown",
   "id": "da939eb2-5f8d-4b18-82c3-ccb0b23f6520",
   "metadata": {},
   "source": [
    "### Order Status Action Classification\n",
    "\n",
    "This query classifies orders from the `orders` table within the `demo_retail` dataset into different categories based on their `order_status`. It helps in quickly identifying the orders that might require attention or intervention. \n",
    "\n"
   ]
  },
  {
   "cell_type": "code",
   "execution_count": null,
   "id": "26f9ee3d-ab43-4720-9fb2-81b1b4dbe13e",
   "metadata": {},
   "outputs": [],
   "source": [
    "%%bigquery \n",
    "\n",
    "SELECT\n",
    "  *,\n",
    "  CASE\n",
    "    WHEN order_status IN ('CLOSED', 'COMPLETE') THEN 'No Action Needed'\n",
    "    WHEN order_status IN ('ON_HOLD', 'PAYMENT_REVIEW', 'PENDING', 'PENDING_PAYMENT', 'PROCESSING') THEN 'Action Needed'\n",
    "  ELSE\n",
    "    'Risky Orders'\n",
    "  END AS order_action_category\n",
    "FROM\n",
    "  `pp-bigquery-02.demo_retail.orders`\n",
    "LIMIT\n",
    "  100;"
   ]
  },
  {
   "cell_type": "markdown",
   "id": "69257669-43fa-4639-b82f-fecbda08c4ce",
   "metadata": {},
   "source": [
    "## Summary: Key Learnings from BigQuery SQL Queries\n",
    "\n",
    "Throughout this notebook, we have explored a wide array of SQL queries and techniques within the BigQuery environment, gaining valuable insights and honing our data analysis skills. Here are the key learnings and takeaways from the queries discussed:\n",
    "\n",
    "1. **Basic SQL Clauses**: We started with fundamental SQL clauses like `WHERE`, `ORDER BY`, `GROUP BY`, and `HAVING`. These clauses form the backbone of data querying, enabling us to filter datasets, organize results, and summarize data effectively.\n",
    "\n",
    "2. **Query Refinement**: We learned how to refine our queries for more precise results using `ALIAS` for readability, `IN` for specifying multiple values in a `WHERE` clause, `BETWEEN` for range conditions, `LIKE` for pattern matching, and `LIMIT` for restricting the number of results.\n",
    "\n",
    "3. **Advanced SQL Operations**: Our journey introduced us to complex SQL operations, including:\n",
    "    - **Aggregates**: Utilizing functions like `SUM()`, `COUNT()`, and `AVG()` to perform calculations on dataset columns.\n",
    "    - **Conditionals**: Implementing conditional logic in queries using `CASE` statements to handle various data scenarios.\n",
    "    - **Joins**: Merging data from multiple tables using different types of joins to create comprehensive datasets.\n",
    "    - **CTEs**: Simplifying complex queries and enhancing readability by breaking them down into manageable parts."
   ]
  }
 ],
 "metadata": {
  "kernelspec": {
   "display_name": "Python 3 (ipykernel)",
   "language": "python",
   "name": "python3"
  },
  "language_info": {
   "codemirror_mode": {
    "name": "ipython",
    "version": 3
   },
   "file_extension": ".py",
   "mimetype": "text/x-python",
   "name": "python",
   "nbconvert_exporter": "python",
   "pygments_lexer": "ipython3",
   "version": "3.11.6"
  }
 },
 "nbformat": 4,
 "nbformat_minor": 5
}
